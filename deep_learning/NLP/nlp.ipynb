{
 "metadata": {
  "language_info": {
   "codemirror_mode": {
    "name": "ipython",
    "version": 3
   },
   "file_extension": ".py",
   "mimetype": "text/x-python",
   "name": "python",
   "nbconvert_exporter": "python",
   "pygments_lexer": "ipython3",
   "version": "3.6.9-final"
  },
  "orig_nbformat": 2,
  "kernelspec": {
   "name": "python3",
   "display_name": "Python 3.6.9 64-bit",
   "metadata": {
    "interpreter": {
     "hash": "31f2aee4e71d21fbe5cf8b01ff0e069b9275f58929596ceb00d14d90e3e16cd6"
    }
   }
  }
 },
 "nbformat": 4,
 "nbformat_minor": 2,
 "cells": [
  {
   "cell_type": "code",
   "execution_count": 10,
   "metadata": {},
   "outputs": [],
   "source": [
    "import tensorflow as tf\n",
    "import tensorflow.keras as keras\n",
    "\n",
    "import numpy as npc"
   ]
  },
  {
   "source": [
    "# Char-NNN "
   ],
   "cell_type": "markdown",
   "metadata": {}
  },
  {
   "cell_type": "code",
   "execution_count": 6,
   "metadata": {},
   "outputs": [
    {
     "output_type": "stream",
     "name": "stdout",
     "text": [
      "Downloading data from https://homl.info/shakespeare\n",
      "1122304/1115394 [==============================] - 0s 0us/step\n",
      "First Citizen:\n",
      "Before we proceed any further, hear me speak.\n",
      "\n",
      "All:\n",
      "Speak, speak.\n",
      "\n",
      "First Citizen:\n",
      "You are all resolved rather to die than to famish?\n",
      "\n"
     ]
    }
   ],
   "source": [
    "# shakespeare_url = \"https://raw.githubusercontent.com/karpathy/char-rnn/master/data/tinyshakespeare/input.txt\"\n",
    "shakespeare_url = \"https://homl.info/shakespeare\"\n",
    "filepath = keras.utils.get_file(\"shakespeare.txt\", shakespeare_url)\n",
    "with open(filepath) as f:\n",
    "    shakespeare_text = f.read()\n",
    "print(shakespeare_text[:148])"
   ]
  },
  {
   "cell_type": "code",
   "execution_count": 11,
   "metadata": {},
   "outputs": [
    {
     "output_type": "stream",
     "name": "stdout",
     "text": [
      "(32, 100, 39) (32, 100)\n"
     ]
    }
   ],
   "source": [
    "tokenizer = keras.preprocessing.text.Tokenizer(char_level=True)\n",
    "tokenizer.fit_on_texts(shakespeare_text)\n",
    "\n",
    "tokenizer.texts_to_sequences([\"First\"])\n",
    "max_id = len(tokenizer.word_index) # number of distinct characters\n",
    "dataset_size = tokenizer.document_count # total number of characters\n",
    "\n",
    "[encoded] = np.array(tokenizer.texts_to_sequences([shakespeare_text])) - 1\n",
    "train_size = dataset_size * 90 // 100\n",
    "dataset = tf.data.Dataset.from_tensor_slices(encoded[:train_size])\n",
    "\n",
    "n_steps = 100\n",
    "window_length = n_steps + 1 # target = input shifted 1 character ahead\n",
    "dataset = dataset.repeat().window(window_length, shift=1, drop_remainder=True)\n",
    "dataset = dataset.flat_map(lambda window: window.batch(window_length))\n",
    "\n",
    "np.random.seed(42)\n",
    "tf.random.set_seed(42)\n",
    "\n",
    "batch_size = 32\n",
    "dataset = dataset.shuffle(10000).batch(batch_size)\n",
    "dataset = dataset.map(lambda windows: (windows[:, :-1], windows[:, 1:]))\n",
    "\n",
    "dataset = dataset.map(\n",
    "    lambda X_batch, Y_batch: (tf.one_hot(X_batch, depth=max_id), Y_batch))\n",
    "\n",
    "dataset = dataset.prefetch(1)\n",
    "\n",
    "for X_batch, Y_batch in dataset.take(1):\n",
    "    print(X_batch.shape, Y_batch.shape)\n",
    "\n"
   ]
  },
  {
   "cell_type": "code",
   "execution_count": 12,
   "metadata": {},
   "outputs": [
    {
     "output_type": "stream",
     "name": "stdout",
     "text": [
      "WARNING:tensorflow:Layer gru will not use cuDNN kernel since it doesn't meet the cuDNN kernel criteria. It will use generic GPU kernel as fallback when running on GPU\n",
      "WARNING:tensorflow:Layer gru_1 will not use cuDNN kernel since it doesn't meet the cuDNN kernel criteria. It will use generic GPU kernel as fallback when running on GPU\n",
      "Epoch 1/10\n",
      "  552/31370 [..............................] - ETA: 2:23:21 - loss: 2.6968"
     ]
    },
    {
     "output_type": "error",
     "ename": "KeyboardInterrupt",
     "evalue": "",
     "traceback": [
      "\u001b[0;31m---------------------------------------------------------------------------\u001b[0m",
      "\u001b[0;31mKeyboardInterrupt\u001b[0m                         Traceback (most recent call last)",
      "\u001b[0;32m<ipython-input-12-90a18e201be7>\u001b[0m in \u001b[0;36m<module>\u001b[0;34m\u001b[0m\n\u001b[1;32m      9\u001b[0m \u001b[0mmodel\u001b[0m\u001b[0;34m.\u001b[0m\u001b[0mcompile\u001b[0m\u001b[0;34m(\u001b[0m\u001b[0mloss\u001b[0m\u001b[0;34m=\u001b[0m\u001b[0;34m\"sparse_categorical_crossentropy\"\u001b[0m\u001b[0;34m,\u001b[0m \u001b[0moptimizer\u001b[0m\u001b[0;34m=\u001b[0m\u001b[0;34m\"adam\"\u001b[0m\u001b[0;34m)\u001b[0m\u001b[0;34m\u001b[0m\u001b[0;34m\u001b[0m\u001b[0m\n\u001b[1;32m     10\u001b[0m history = model.fit(dataset, steps_per_epoch=train_size // batch_size,\n\u001b[0;32m---> 11\u001b[0;31m                     epochs=10)\n\u001b[0m",
      "\u001b[0;32m~/.local/lib/python3.6/site-packages/tensorflow/python/keras/engine/training.py\u001b[0m in \u001b[0;36mfit\u001b[0;34m(self, x, y, batch_size, epochs, verbose, callbacks, validation_split, validation_data, shuffle, class_weight, sample_weight, initial_epoch, steps_per_epoch, validation_steps, validation_batch_size, validation_freq, max_queue_size, workers, use_multiprocessing)\u001b[0m\n\u001b[1;32m   1098\u001b[0m                 _r=1):\n\u001b[1;32m   1099\u001b[0m               \u001b[0mcallbacks\u001b[0m\u001b[0;34m.\u001b[0m\u001b[0mon_train_batch_begin\u001b[0m\u001b[0;34m(\u001b[0m\u001b[0mstep\u001b[0m\u001b[0;34m)\u001b[0m\u001b[0;34m\u001b[0m\u001b[0;34m\u001b[0m\u001b[0m\n\u001b[0;32m-> 1100\u001b[0;31m               \u001b[0mtmp_logs\u001b[0m \u001b[0;34m=\u001b[0m \u001b[0mself\u001b[0m\u001b[0;34m.\u001b[0m\u001b[0mtrain_function\u001b[0m\u001b[0;34m(\u001b[0m\u001b[0miterator\u001b[0m\u001b[0;34m)\u001b[0m\u001b[0;34m\u001b[0m\u001b[0;34m\u001b[0m\u001b[0m\n\u001b[0m\u001b[1;32m   1101\u001b[0m               \u001b[0;32mif\u001b[0m \u001b[0mdata_handler\u001b[0m\u001b[0;34m.\u001b[0m\u001b[0mshould_sync\u001b[0m\u001b[0;34m:\u001b[0m\u001b[0;34m\u001b[0m\u001b[0;34m\u001b[0m\u001b[0m\n\u001b[1;32m   1102\u001b[0m                 \u001b[0mcontext\u001b[0m\u001b[0;34m.\u001b[0m\u001b[0masync_wait\u001b[0m\u001b[0;34m(\u001b[0m\u001b[0;34m)\u001b[0m\u001b[0;34m\u001b[0m\u001b[0;34m\u001b[0m\u001b[0m\n",
      "\u001b[0;32m~/.local/lib/python3.6/site-packages/tensorflow/python/eager/def_function.py\u001b[0m in \u001b[0;36m__call__\u001b[0;34m(self, *args, **kwds)\u001b[0m\n\u001b[1;32m    826\u001b[0m     \u001b[0mtracing_count\u001b[0m \u001b[0;34m=\u001b[0m \u001b[0mself\u001b[0m\u001b[0;34m.\u001b[0m\u001b[0mexperimental_get_tracing_count\u001b[0m\u001b[0;34m(\u001b[0m\u001b[0;34m)\u001b[0m\u001b[0;34m\u001b[0m\u001b[0;34m\u001b[0m\u001b[0m\n\u001b[1;32m    827\u001b[0m     \u001b[0;32mwith\u001b[0m \u001b[0mtrace\u001b[0m\u001b[0;34m.\u001b[0m\u001b[0mTrace\u001b[0m\u001b[0;34m(\u001b[0m\u001b[0mself\u001b[0m\u001b[0;34m.\u001b[0m\u001b[0m_name\u001b[0m\u001b[0;34m)\u001b[0m \u001b[0;32mas\u001b[0m \u001b[0mtm\u001b[0m\u001b[0;34m:\u001b[0m\u001b[0;34m\u001b[0m\u001b[0;34m\u001b[0m\u001b[0m\n\u001b[0;32m--> 828\u001b[0;31m       \u001b[0mresult\u001b[0m \u001b[0;34m=\u001b[0m \u001b[0mself\u001b[0m\u001b[0;34m.\u001b[0m\u001b[0m_call\u001b[0m\u001b[0;34m(\u001b[0m\u001b[0;34m*\u001b[0m\u001b[0margs\u001b[0m\u001b[0;34m,\u001b[0m \u001b[0;34m**\u001b[0m\u001b[0mkwds\u001b[0m\u001b[0;34m)\u001b[0m\u001b[0;34m\u001b[0m\u001b[0;34m\u001b[0m\u001b[0m\n\u001b[0m\u001b[1;32m    829\u001b[0m       \u001b[0mcompiler\u001b[0m \u001b[0;34m=\u001b[0m \u001b[0;34m\"xla\"\u001b[0m \u001b[0;32mif\u001b[0m \u001b[0mself\u001b[0m\u001b[0;34m.\u001b[0m\u001b[0m_experimental_compile\u001b[0m \u001b[0;32melse\u001b[0m \u001b[0;34m\"nonXla\"\u001b[0m\u001b[0;34m\u001b[0m\u001b[0;34m\u001b[0m\u001b[0m\n\u001b[1;32m    830\u001b[0m       \u001b[0mnew_tracing_count\u001b[0m \u001b[0;34m=\u001b[0m \u001b[0mself\u001b[0m\u001b[0;34m.\u001b[0m\u001b[0mexperimental_get_tracing_count\u001b[0m\u001b[0;34m(\u001b[0m\u001b[0;34m)\u001b[0m\u001b[0;34m\u001b[0m\u001b[0;34m\u001b[0m\u001b[0m\n",
      "\u001b[0;32m~/.local/lib/python3.6/site-packages/tensorflow/python/eager/def_function.py\u001b[0m in \u001b[0;36m_call\u001b[0;34m(self, *args, **kwds)\u001b[0m\n\u001b[1;32m    853\u001b[0m       \u001b[0;31m# In this case we have created variables on the first call, so we run the\u001b[0m\u001b[0;34m\u001b[0m\u001b[0;34m\u001b[0m\u001b[0;34m\u001b[0m\u001b[0m\n\u001b[1;32m    854\u001b[0m       \u001b[0;31m# defunned version which is guaranteed to never create variables.\u001b[0m\u001b[0;34m\u001b[0m\u001b[0;34m\u001b[0m\u001b[0;34m\u001b[0m\u001b[0m\n\u001b[0;32m--> 855\u001b[0;31m       \u001b[0;32mreturn\u001b[0m \u001b[0mself\u001b[0m\u001b[0;34m.\u001b[0m\u001b[0m_stateless_fn\u001b[0m\u001b[0;34m(\u001b[0m\u001b[0;34m*\u001b[0m\u001b[0margs\u001b[0m\u001b[0;34m,\u001b[0m \u001b[0;34m**\u001b[0m\u001b[0mkwds\u001b[0m\u001b[0;34m)\u001b[0m  \u001b[0;31m# pylint: disable=not-callable\u001b[0m\u001b[0;34m\u001b[0m\u001b[0;34m\u001b[0m\u001b[0m\n\u001b[0m\u001b[1;32m    856\u001b[0m     \u001b[0;32melif\u001b[0m \u001b[0mself\u001b[0m\u001b[0;34m.\u001b[0m\u001b[0m_stateful_fn\u001b[0m \u001b[0;32mis\u001b[0m \u001b[0;32mnot\u001b[0m \u001b[0;32mNone\u001b[0m\u001b[0;34m:\u001b[0m\u001b[0;34m\u001b[0m\u001b[0;34m\u001b[0m\u001b[0m\n\u001b[1;32m    857\u001b[0m       \u001b[0;31m# Release the lock early so that multiple threads can perform the call\u001b[0m\u001b[0;34m\u001b[0m\u001b[0;34m\u001b[0m\u001b[0;34m\u001b[0m\u001b[0m\n",
      "\u001b[0;32m~/.local/lib/python3.6/site-packages/tensorflow/python/eager/function.py\u001b[0m in \u001b[0;36m__call__\u001b[0;34m(self, *args, **kwargs)\u001b[0m\n\u001b[1;32m   2941\u001b[0m        filtered_flat_args) = self._maybe_define_function(args, kwargs)\n\u001b[1;32m   2942\u001b[0m     return graph_function._call_flat(\n\u001b[0;32m-> 2943\u001b[0;31m         filtered_flat_args, captured_inputs=graph_function.captured_inputs)  # pylint: disable=protected-access\n\u001b[0m\u001b[1;32m   2944\u001b[0m \u001b[0;34m\u001b[0m\u001b[0m\n\u001b[1;32m   2945\u001b[0m   \u001b[0;34m@\u001b[0m\u001b[0mproperty\u001b[0m\u001b[0;34m\u001b[0m\u001b[0;34m\u001b[0m\u001b[0m\n",
      "\u001b[0;32m~/.local/lib/python3.6/site-packages/tensorflow/python/eager/function.py\u001b[0m in \u001b[0;36m_call_flat\u001b[0;34m(self, args, captured_inputs, cancellation_manager)\u001b[0m\n\u001b[1;32m   1917\u001b[0m       \u001b[0;31m# No tape is watching; skip to running the function.\u001b[0m\u001b[0;34m\u001b[0m\u001b[0;34m\u001b[0m\u001b[0;34m\u001b[0m\u001b[0m\n\u001b[1;32m   1918\u001b[0m       return self._build_call_outputs(self._inference_function.call(\n\u001b[0;32m-> 1919\u001b[0;31m           ctx, args, cancellation_manager=cancellation_manager))\n\u001b[0m\u001b[1;32m   1920\u001b[0m     forward_backward = self._select_forward_and_backward_functions(\n\u001b[1;32m   1921\u001b[0m         \u001b[0margs\u001b[0m\u001b[0;34m,\u001b[0m\u001b[0;34m\u001b[0m\u001b[0;34m\u001b[0m\u001b[0m\n",
      "\u001b[0;32m~/.local/lib/python3.6/site-packages/tensorflow/python/eager/function.py\u001b[0m in \u001b[0;36mcall\u001b[0;34m(self, ctx, args, cancellation_manager)\u001b[0m\n\u001b[1;32m    558\u001b[0m               \u001b[0minputs\u001b[0m\u001b[0;34m=\u001b[0m\u001b[0margs\u001b[0m\u001b[0;34m,\u001b[0m\u001b[0;34m\u001b[0m\u001b[0;34m\u001b[0m\u001b[0m\n\u001b[1;32m    559\u001b[0m               \u001b[0mattrs\u001b[0m\u001b[0;34m=\u001b[0m\u001b[0mattrs\u001b[0m\u001b[0;34m,\u001b[0m\u001b[0;34m\u001b[0m\u001b[0;34m\u001b[0m\u001b[0m\n\u001b[0;32m--> 560\u001b[0;31m               ctx=ctx)\n\u001b[0m\u001b[1;32m    561\u001b[0m         \u001b[0;32melse\u001b[0m\u001b[0;34m:\u001b[0m\u001b[0;34m\u001b[0m\u001b[0;34m\u001b[0m\u001b[0m\n\u001b[1;32m    562\u001b[0m           outputs = execute.execute_with_cancellation(\n",
      "\u001b[0;32m~/.local/lib/python3.6/site-packages/tensorflow/python/eager/execute.py\u001b[0m in \u001b[0;36mquick_execute\u001b[0;34m(op_name, num_outputs, inputs, attrs, ctx, name)\u001b[0m\n\u001b[1;32m     58\u001b[0m     \u001b[0mctx\u001b[0m\u001b[0;34m.\u001b[0m\u001b[0mensure_initialized\u001b[0m\u001b[0;34m(\u001b[0m\u001b[0;34m)\u001b[0m\u001b[0;34m\u001b[0m\u001b[0;34m\u001b[0m\u001b[0m\n\u001b[1;32m     59\u001b[0m     tensors = pywrap_tfe.TFE_Py_Execute(ctx._handle, device_name, op_name,\n\u001b[0;32m---> 60\u001b[0;31m                                         inputs, attrs, num_outputs)\n\u001b[0m\u001b[1;32m     61\u001b[0m   \u001b[0;32mexcept\u001b[0m \u001b[0mcore\u001b[0m\u001b[0;34m.\u001b[0m\u001b[0m_NotOkStatusException\u001b[0m \u001b[0;32mas\u001b[0m \u001b[0me\u001b[0m\u001b[0;34m:\u001b[0m\u001b[0;34m\u001b[0m\u001b[0;34m\u001b[0m\u001b[0m\n\u001b[1;32m     62\u001b[0m     \u001b[0;32mif\u001b[0m \u001b[0mname\u001b[0m \u001b[0;32mis\u001b[0m \u001b[0;32mnot\u001b[0m \u001b[0;32mNone\u001b[0m\u001b[0;34m:\u001b[0m\u001b[0;34m\u001b[0m\u001b[0;34m\u001b[0m\u001b[0m\n",
      "\u001b[0;31mKeyboardInterrupt\u001b[0m: "
     ]
    }
   ],
   "source": [
    "model = keras.models.Sequential([\n",
    "    keras.layers.GRU(128, return_sequences=True, input_shape=[None, max_id],\n",
    "                     dropout=0.2, recurrent_dropout=0.2),\n",
    "    keras.layers.GRU(128, return_sequences=True,\n",
    "                     dropout=0.2, recurrent_dropout=0.2),\n",
    "    keras.layers.TimeDistributed(keras.layers.Dense(max_id,\n",
    "                                                    activation=\"softmax\"))\n",
    "])\n",
    "model.compile(loss=\"sparse_categorical_crossentropy\", optimizer=\"adam\")\n",
    "history = model.fit(dataset, steps_per_epoch=train_size // batch_size,\n",
    "                    epochs=10)"
   ]
  },
  {
   "cell_type": "code",
   "execution_count": null,
   "metadata": {},
   "outputs": [],
   "source": [
    "def preprocess(texts):\n",
    "    X = np.array(tokenizer.texts_to_sequences(texts)) - 1\n",
    "    return tf.one_hot(X, max_id)\n",
    "\n",
    "def next_char(text, temperature=1):\n",
    "    # Plus la température est élevée et plus les différentes classes auront la même proba d'être choisie. si la température est basse, les classes les moins probables auront encore moins de chance d'être choisies.\n",
    "    # Cela vient de la formule du softmax:  P(j) = exp(logit_j / T) / sum_i: exp(logit_i / T) \n",
    "    # Pour T grand: P(j) équivalent à 1 / sum_i: 1 = 1/N\n",
    "    # Pour T petit: logit_j / T va écraser les autres s'il est le plus grand. \n",
    "    X_new = preprocess([text])\n",
    "    y_proba = model.predict(X_new)[0, -1:, :]\n",
    "    rescaled_logits = tf.math.log(y_proba) / temperature\n",
    "    char_id = tf.random.categorical(rescaled_logits, num_samples=1) + 1\n",
    "    return tokenizer.sequences_to_texts(char_id.numpy())[0]\n",
    "\n",
    "tf.random.set_seed(42)\n",
    "next_char(\"How are yo\", temperature=1)"
   ]
  },
  {
   "source": [
    "# Char-NN avec état"
   ],
   "cell_type": "markdown",
   "metadata": {}
  },
  {
   "cell_type": "code",
   "execution_count": null,
   "metadata": {},
   "outputs": [],
   "source": [
    "# Pour chaque batch, le n-ème élément doit être la continuation du n-ème élément précédent, donc on ne peut pas shuffle.\n",
    "# Une idée simple est simplement de considérer un batch comme 1 élément et de les prendre au fur et à mesure, sans shuffle\n",
    "dataset = tf.data.Dataset.from_tensor_slices(encoded[:train_size])\n",
    "dataset = dataset.window(window_length, shift=n_steps, drop_remainder=True)\n",
    "dataset = dataset.flat_map(lambda window: window.batch(window_length))\n",
    "dataset = dataset.repeat().batch(1)\n",
    "dataset = dataset.map(lambda windows: (windows[:, :-1], windows[:, 1:]))\n",
    "dataset = dataset.map(\n",
    "    lambda X_batch, Y_batch: (tf.one_hot(X_batch, depth=max_id), Y_batch))\n",
    "dataset = dataset.prefetch(1)\n",
    "\n",
    "model = keras.models.Sequential([\n",
    "    keras.layers.GRU(128, return_sequences=True, stateful=True,\n",
    "                     dropout=0.2, recurrent_dropout=0.2,\n",
    "                     batch_input_shape=[batch_size, None, max_id]),\n",
    "    keras.layers.GRU(128, return_sequences=True, stateful=True,\n",
    "                     dropout=0.2, recurrent_dropout=0.2),\n",
    "    keras.layers.TimeDistributed(keras.layers.Dense(max_id,\n",
    "                                                    activation=\"softmax\"))\n",
    "])\n",
    "\n",
    "# A la fin de chaque epoch, une fois qu'on a fait le tour sur le dataset, il faut ré-initialiser les states, car on repart depuis de début\n",
    "class ResetStatesCallback(keras.callbacks.Callback):\n",
    "    def on_epoch_begin(self, epoch, logs):\n",
    "        self.model.reset_states()\n",
    "\n",
    "model.compile(loss=\"sparse_categorical_crossentropy\", optimizer=\"adam\")\n",
    "steps_per_epoch = train_size // batch_size // n_steps\n",
    "history = model.fit(dataset, steps_per_epoch=steps_per_epoch, epochs=50,\n",
    "                    callbacks=[ResetStatesCallback()])"
   ]
  },
  {
   "source": [
    "# Analyse de sentiments"
   ],
   "cell_type": "markdown",
   "metadata": {}
  },
  {
   "cell_type": "code",
   "execution_count": 13,
   "metadata": {
    "tags": [
     "outputPrepend"
    ]
   },
   "outputs": [
    {
     "output_type": "stream",
     "name": "stdout",
     "text": [
      "%|█████▊    | 14655/25000 [00:04<00:02, 4089.79 examples/s]\u001b[A\n",
      "Generating train examples...:  61%|██████    | 15141/25000 [00:05<00:02, 4292.99 examples/s]\u001b[A\n",
      "Generating train examples...:  62%|██████▏   | 15612/25000 [00:05<00:02, 4194.10 examples/s]\u001b[A\n",
      "Generating train examples...:  64%|██████▍   | 16061/25000 [00:05<00:02, 4246.51 examples/s]\u001b[A\n",
      "Generating train examples...:  66%|██████▌   | 16519/25000 [00:05<00:01, 4340.55 examples/s]\u001b[A\n",
      "Generating train examples...:  68%|██████▊   | 16975/25000 [00:05<00:01, 4402.24 examples/s]\u001b[A\n",
      "Generating train examples...:  70%|██████▉   | 17427/25000 [00:05<00:01, 4428.89 examples/s]\u001b[A\n",
      "Generating train examples...:  72%|███████▏  | 17914/25000 [00:05<00:01, 4551.12 examples/s]\u001b[A\n",
      "Generating train examples...:  74%|███████▎  | 18384/25000 [00:05<00:01, 4592.92 examples/s]\u001b[A\n",
      "Generating train examples...:  75%|███████▌  | 18852/25000 [00:05<00:01, 4616.14 examples/s]\u001b[A\n",
      "Generating train examples...:  77%|███████▋  | 19322/25000 [00:05<00:01, 4639.09 examples/s]\u001b[A\n",
      "Generating train examples...:  79%|███████▉  | 19793/25000 [00:06<00:01, 4659.36 examples/s]\u001b[A\n",
      "Generating train examples...:  81%|████████  | 20261/25000 [00:06<00:02, 2286.75 examples/s]\u001b[A\n",
      "Generating train examples...:  83%|████████▎ | 20741/25000 [00:06<00:01, 2712.66 examples/s]\u001b[A\n",
      "Generating train examples...:  85%|████████▍ | 21217/25000 [00:06<00:01, 3114.38 examples/s]\u001b[A\n",
      "Generating train examples...:  87%|████████▋ | 21685/25000 [00:06<00:00, 3461.11 examples/s]\u001b[A\n",
      "Generating train examples...:  88%|████████▊ | 22119/25000 [00:06<00:00, 3671.45 examples/s]\u001b[A\n",
      "Generating train examples...:  90%|█████████ | 22551/25000 [00:07<00:00, 3759.83 examples/s]\u001b[A\n",
      "Generating train examples...:  92%|█████████▏| 22992/25000 [00:07<00:00, 3932.95 examples/s]\u001b[A\n",
      "Generating train examples...:  94%|█████████▍| 23465/25000 [00:07<00:00, 4142.17 examples/s]\u001b[A\n",
      "Generating train examples...:  96%|█████████▌| 23917/25000 [00:07<00:00, 4247.19 examples/s]\u001b[A\n",
      "Generating train examples...:  98%|█████████▊| 24376/25000 [00:07<00:00, 4342.81 examples/s]\u001b[A\n",
      "Generating train examples...:  99%|█████████▉| 24838/25000 [00:07<00:00, 4420.01 examples/s]\u001b[A\n",
      "                                                                                            \u001b[A\n",
      "Shuffling imdb_reviews-train.tfrecord...:   0%|          | 0/25000 [00:00<?, ? examples/s]\u001b[A\n",
      "Generating splits...:  33%|███▎      | 1/3 [00:10<00:20, 10.47s/ splits]\n",
      "Generating test examples...:   0%|          | 0/25000 [00:00<?, ? examples/s]\u001b[A\n",
      "Generating test examples...:   0%|          | 1/25000 [00:00<3:08:32,  2.21 examples/s]\u001b[A\n",
      "Generating test examples...:   2%|▏         | 449/25000 [00:00<2:09:38,  3.16 examples/s]\u001b[A\n",
      "Generating test examples...:   4%|▎         | 901/25000 [00:00<1:29:06,  4.51 examples/s]\u001b[A\n",
      "Generating test examples...:   6%|▌         | 1383/25000 [00:00<1:01:09,  6.44 examples/s]\u001b[A\n",
      "Generating test examples...:   7%|▋         | 1853/25000 [00:00<41:58,  9.19 examples/s]  \u001b[A\n",
      "Generating test examples...:   9%|▉         | 2318/25000 [00:00<28:49, 13.12 examples/s]\u001b[A\n",
      "Generating test examples...:  11%|█         | 2749/25000 [00:01<19:48, 18.72 examples/s]\u001b[A\n",
      "Generating test examples...:  13%|█▎        | 3169/25000 [00:01<13:38, 26.68 examples/s]\u001b[A\n",
      "Generating test examples...:  15%|█▍        | 3654/25000 [00:01<09:21, 38.03 examples/s]\u001b[A\n",
      "Generating test examples...:  16%|█▋        | 4102/25000 [00:01<06:26, 54.13 examples/s]\u001b[A\n",
      "Generating test examples...:  18%|█▊        | 4537/25000 [00:01<04:26, 76.88 examples/s]\u001b[A\n",
      "Generating test examples...:  20%|█▉        | 4980/25000 [00:01<03:03, 109.01 examples/s]\u001b[A\n",
      "Generating test examples...:  22%|██▏       | 5419/25000 [00:01<02:07, 154.09 examples/s]\u001b[A\n",
      "Generating test examples...:  24%|██▎       | 5885/25000 [00:01<01:28, 217.05 examples/s]\u001b[A\n",
      "Generating test examples...:  25%|██▌       | 6332/25000 [00:01<01:01, 303.75 examples/s]\u001b[A\n",
      "Generating test examples...:  27%|██▋       | 6813/25000 [00:01<00:43, 422.47 examples/s]\u001b[A\n",
      "Generating test examples...:  29%|██▉       | 7268/25000 [00:02<00:30, 578.76 examples/s]\u001b[A\n",
      "Generating test examples...:  31%|███       | 7713/25000 [00:02<00:22, 774.77 examples/s]\u001b[A\n",
      "Generating test examples...:  33%|███▎      | 8136/25000 [00:02<00:16, 1012.95 examples/s]\u001b[A\n",
      "Generating test examples...:  34%|███▍      | 8615/25000 [00:02<00:12, 1326.78 examples/s]\u001b[A\n",
      "Generating test examples...:  36%|███▌      | 9041/25000 [00:02<00:09, 1664.27 examples/s]\u001b[A\n",
      "Generating test examples...:  38%|███▊      | 9462/25000 [00:02<00:07, 1980.18 examples/s]\u001b[A\n",
      "Generating test examples...:  39%|███▉      | 9865/25000 [00:02<00:06, 2335.80 examples/s]\u001b[A\n",
      "Generating test examples...:  41%|████      | 10267/25000 [00:02<00:05, 2654.83 examples/s]\u001b[A\n",
      "Generating test examples...:  43%|████▎     | 10684/25000 [00:02<00:04, 2979.27 examples/s]\u001b[A\n",
      "Generating test examples...:  44%|████▍     | 11119/25000 [00:03<00:04, 3289.12 examples/s]\u001b[A\n",
      "Generating test examples...:  46%|████▌     | 11532/25000 [00:03<00:03, 3483.35 examples/s]\u001b[A\n",
      "Generating test examples...:  48%|████▊     | 11943/25000 [00:03<00:03, 3648.27 examples/s]\u001b[A\n",
      "Generating test examples...:  49%|████▉     | 12359/25000 [00:03<00:03, 3787.58 examples/s]\u001b[A\n",
      "Generating test examples...:  51%|█████     | 12778/25000 [00:03<00:03, 3899.19 examples/s]\u001b[A\n",
      "Generating test examples...:  53%|█████▎    | 13192/25000 [00:03<00:03, 3864.05 examples/s]\u001b[A\n",
      "Generating test examples...:  54%|█████▍    | 13596/25000 [00:03<00:03, 3796.80 examples/s]\u001b[A\n",
      "Generating test examples...:  56%|█████▌    | 14005/25000 [00:03<00:02, 3879.50 examples/s]\u001b[A\n",
      "Generating test examples...:  58%|█████▊    | 14420/25000 [00:03<00:02, 3954.53 examples/s]\u001b[A\n",
      "Generating test examples...:  59%|█████▉    | 14832/25000 [00:03<00:02, 4002.26 examples/s]\u001b[A\n",
      "Generating test examples...:  61%|██████    | 15252/25000 [00:04<00:02, 4059.29 examples/s]\u001b[A\n",
      "Generating test examples...:  63%|██████▎   | 15663/25000 [00:04<00:02, 4074.10 examples/s]\u001b[A\n",
      "Generating test examples...:  64%|██████▍   | 16082/25000 [00:04<00:02, 4107.17 examples/s]\u001b[A\n",
      "Generating test examples...:  66%|██████▌   | 16521/25000 [00:04<00:02, 4186.04 examples/s]\u001b[A\n",
      "Generating test examples...:  68%|██████▊   | 16942/25000 [00:04<00:01, 4186.29 examples/s]\u001b[A\n",
      "Generating test examples...:  69%|██████▉   | 17362/25000 [00:04<00:01, 4157.18 examples/s]\u001b[A\n",
      "Generating test examples...:  71%|███████   | 17792/25000 [00:04<00:01, 4196.71 examples/s]\u001b[A\n",
      "Generating test examples...:  73%|███████▎  | 18213/25000 [00:04<00:01, 4171.28 examples/s]\u001b[A\n",
      "Generating test examples...:  75%|███████▍  | 18631/25000 [00:04<00:01, 4079.31 examples/s]\u001b[A\n",
      "Generating test examples...:  76%|███████▌  | 19053/25000 [00:04<00:01, 4117.87 examples/s]\u001b[A\n",
      "Generating test examples...:  78%|███████▊  | 19469/25000 [00:05<00:01, 4129.18 examples/s]\u001b[A\n",
      "Generating test examples...:  80%|███████▉  | 19890/25000 [00:05<00:01, 4151.41 examples/s]\u001b[A\n",
      "Generating test examples...:  81%|████████  | 20306/25000 [00:05<00:01, 4122.68 examples/s]\u001b[A\n",
      "Generating test examples...:  83%|████████▎ | 20756/25000 [00:05<00:01, 4226.15 examples/s]\u001b[A\n",
      "Generating test examples...:  85%|████████▍ | 21180/25000 [00:05<00:00, 4178.73 examples/s]\u001b[A\n",
      "Generating test examples...:  86%|████████▋ | 21620/25000 [00:05<00:00, 4240.84 examples/s]\u001b[A\n",
      "Generating test examples...:  88%|████████▊ | 22081/25000 [00:05<00:00, 4344.79 examples/s]\u001b[A\n",
      "Generating test examples...:  90%|█████████ | 22517/25000 [00:05<00:00, 4332.14 examples/s]\u001b[A\n",
      "Generating test examples...:  92%|█████████▏| 22952/25000 [00:05<00:00, 4266.60 examples/s]\u001b[A\n",
      "Generating test examples...:  94%|█████████▎| 23385/25000 [00:05<00:00, 4284.09 examples/s]\u001b[A\n",
      "Generating test examples...:  95%|█████████▌| 23814/25000 [00:06<00:00, 4264.06 examples/s]\u001b[A\n",
      "Generating test examples...:  97%|█████████▋| 24241/25000 [00:06<00:00, 4061.05 examples/s]\u001b[A\n",
      "Generating test examples...:  99%|█████████▊| 24650/25000 [00:06<00:00, 3936.66 examples/s]\u001b[A\n",
      "                                                                                           \u001b[A\n",
      "Shuffling imdb_reviews-test.tfrecord...:   0%|          | 0/25000 [00:00<?, ? examples/s]\u001b[A\n",
      "Generating splits...:  67%|██████▋   | 2/3 [00:21<00:10, 10.58s/ splits]\n",
      "Generating unsupervised examples...:   0%|          | 0/50000 [00:00<?, ? examples/s]\u001b[A\n",
      "Generating unsupervised examples...:   0%|          | 1/50000 [00:03<48:03:35,  3.46s/ examples]\u001b[A\n",
      "Generating unsupervised examples...:   1%|          | 453/50000 [00:03<33:20:19,  2.42s/ examples]\u001b[A\n",
      "Generating unsupervised examples...:   2%|▏         | 872/50000 [00:03<23:08:26,  1.70s/ examples]\u001b[A\n",
      "Generating unsupervised examples...:   3%|▎         | 1300/50000 [00:03<16:03:30,  1.19s/ examples]\u001b[A\n",
      "Generating unsupervised examples...:   3%|▎         | 1719/50000 [00:03<11:08:42,  1.20 examples/s]\u001b[A\n",
      "Generating unsupervised examples...:   4%|▍         | 2182/50000 [00:03<7:43:39,  1.72 examples/s] \u001b[A\n",
      "Generating unsupervised examples...:   5%|▌         | 2591/50000 [00:04<5:21:50,  2.46 examples/s]\u001b[A\n",
      "Generating unsupervised examples...:   6%|▌         | 2984/50000 [00:04<3:43:28,  3.51 examples/s]\u001b[A\n",
      "Generating unsupervised examples...:   7%|▋         | 3459/50000 [00:04<2:34:54,  5.01 examples/s]\u001b[A\n",
      "Generating unsupervised examples...:   8%|▊         | 3870/50000 [00:04<1:47:32,  7.15 examples/s]\u001b[A\n",
      "Generating unsupervised examples...:   9%|▊         | 4294/50000 [00:04<1:14:38, 10.21 examples/s]\u001b[A\n",
      "Generating unsupervised examples...:   9%|▉         | 4725/50000 [00:04<51:48, 14.56 examples/s]  \u001b[A\n",
      "Generating unsupervised examples...:  10%|█         | 5167/50000 [00:04<35:57, 20.78 examples/s]\u001b[A\n",
      "Generating unsupervised examples...:  11%|█         | 5591/50000 [00:04<24:59, 29.62 examples/s]\u001b[A\n",
      "Generating unsupervised examples...:  12%|█▏        | 6013/50000 [00:04<17:22, 42.18 examples/s]\u001b[A\n",
      "Generating unsupervised examples...:  13%|█▎        | 6426/50000 [00:04<12:06, 59.96 examples/s]\u001b[A\n",
      "Generating unsupervised examples...:  14%|█▎        | 6826/50000 [00:05<08:27, 85.10 examples/s]\u001b[A\n",
      "Generating unsupervised examples...:  15%|█▍        | 7292/50000 [00:05<05:54, 120.62 examples/s]\u001b[A\n",
      "Generating unsupervised examples...:  15%|█▌        | 7747/50000 [00:05<04:07, 170.38 examples/s]\u001b[A\n",
      "Generating unsupervised examples...:  16%|█▋        | 8198/50000 [00:05<02:54, 239.52 examples/s]\u001b[A\n",
      "Generating unsupervised examples...:  17%|█▋        | 8672/50000 [00:05<02:03, 334.91 examples/s]\u001b[A\n",
      "Generating unsupervised examples...:  18%|█▊        | 9146/50000 [00:05<01:27, 464.36 examples/s]\u001b[A\n",
      "Generating unsupervised examples...:  19%|█▉        | 9608/50000 [00:05<01:03, 635.90 examples/s]\u001b[A\n",
      "Generating unsupervised examples...:  20%|██        | 10065/50000 [00:05<00:46, 849.88 examples/s]\u001b[A\n",
      "Generating unsupervised examples...:  21%|██        | 10504/50000 [00:05<00:35, 1117.79 examples/s]\u001b[A\n",
      "Generating unsupervised examples...:  22%|██▏       | 10938/50000 [00:06<00:27, 1432.71 examples/s]\u001b[A\n",
      "Generating unsupervised examples...:  23%|██▎       | 11368/50000 [00:06<00:21, 1790.86 examples/s]\u001b[A\n",
      "Generating unsupervised examples...:  24%|██▎       | 11798/50000 [00:06<00:17, 2159.43 examples/s]\u001b[A\n",
      "Generating unsupervised examples...:  25%|██▍       | 12266/50000 [00:06<00:14, 2574.79 examples/s]\u001b[A\n",
      "Generating unsupervised examples...:  25%|██▌       | 12744/50000 [00:06<00:12, 2987.10 examples/s]\u001b[A\n",
      "Generating unsupervised examples...:  26%|██▋       | 13198/50000 [00:06<00:11, 3328.00 examples/s]\u001b[A\n",
      "Generating unsupervised examples...:  27%|██▋       | 13670/50000 [00:06<00:09, 3649.27 examples/s]\u001b[A\n",
      "Generating unsupervised examples...:  28%|██▊       | 14127/50000 [00:06<00:09, 3827.45 examples/s]\u001b[A\n",
      "Generating unsupervised examples...:  29%|██▉       | 14577/50000 [00:06<00:08, 3972.67 examples/s]\u001b[A\n",
      "Generating unsupervised examples...:  30%|███       | 15023/50000 [00:06<00:08, 3998.86 examples/s]\u001b[A\n",
      "Generating unsupervised examples...:  31%|███       | 15457/50000 [00:07<00:08, 3968.89 examples/s]\u001b[A\n",
      "Generating unsupervised examples...:  32%|███▏      | 15920/50000 [00:07<00:08, 4144.75 examples/s]\u001b[A\n",
      "Generating unsupervised examples...:  33%|███▎      | 16381/50000 [00:07<00:07, 4272.64 examples/s]\u001b[A\n",
      "Generating unsupervised examples...:  34%|███▎      | 16829/50000 [00:07<00:07, 4330.08 examples/s]\u001b[A\n",
      "Generating unsupervised examples...:  35%|███▍      | 17293/50000 [00:07<00:07, 4417.65 examples/s]\u001b[A\n",
      "Generating unsupervised examples...:  36%|███▌      | 17750/50000 [00:07<00:07, 4462.05 examples/s]\u001b[A\n",
      "Generating unsupervised examples...:  36%|███▋      | 18238/50000 [00:07<00:06, 4579.27 examples/s]\u001b[A\n",
      "Generating unsupervised examples...:  37%|███▋      | 18713/50000 [00:07<00:06, 4626.09 examples/s]\u001b[A\n",
      "Generating unsupervised examples...:  38%|███▊      | 19179/50000 [00:07<00:06, 4593.69 examples/s]\u001b[A\n",
      "Generating unsupervised examples...:  39%|███▉      | 19641/50000 [00:07<00:06, 4597.18 examples/s]\u001b[A\n",
      "Generating unsupervised examples...:  40%|████      | 20103/50000 [00:08<00:06, 4592.37 examples/s]\u001b[A\n",
      "Generating unsupervised examples...:  41%|████      | 20564/50000 [00:08<00:06, 4497.49 examples/s]\u001b[A\n",
      "Generating unsupervised examples...:  42%|████▏     | 21033/50000 [00:08<00:06, 4553.17 examples/s]\u001b[A\n",
      "Generating unsupervised examples...:  43%|████▎     | 21499/50000 [00:08<00:06, 4584.50 examples/s]\u001b[A\n",
      "Generating unsupervised examples...:  44%|████▍     | 21990/50000 [00:08<00:05, 4677.44 examples/s]\u001b[A\n",
      "Generating unsupervised examples...:  45%|████▍     | 22467/50000 [00:08<00:05, 4703.83 examples/s]\u001b[A\n",
      "Generating unsupervised examples...:  46%|████▌     | 22944/50000 [00:08<00:05, 4722.22 examples/s]\u001b[A\n",
      "Generating unsupervised examples...:  47%|████▋     | 23417/50000 [00:08<00:05, 4723.36 examples/s]\u001b[A\n",
      "Generating unsupervised examples...:  48%|████▊     | 23890/50000 [00:08<00:05, 4655.27 examples/s]\u001b[A\n",
      "Generating unsupervised examples...:  49%|████▊     | 24366/50000 [00:08<00:05, 4685.42 examples/s]\u001b[A\n",
      "Generating unsupervised examples...:  50%|████▉     | 24844/50000 [00:09<00:05, 4711.05 examples/s]\u001b[A\n",
      "Generating unsupervised examples...:  51%|█████     | 25323/50000 [00:09<00:05, 4733.49 examples/s]\u001b[A\n",
      "Generating unsupervised examples...:  52%|█████▏    | 25798/50000 [00:09<00:05, 4735.49 examples/s]\u001b[A\n",
      "Generating unsupervised examples...:  53%|█████▎    | 26272/50000 [00:09<00:05, 4692.93 examples/s]\u001b[A\n",
      "Generating unsupervised examples...:  53%|█████▎    | 26742/50000 [00:09<00:04, 4677.78 examples/s]\u001b[A\n",
      "Generating unsupervised examples...:  54%|█████▍    | 27215/50000 [00:09<00:04, 4691.22 examples/s]\u001b[A\n",
      "Generating unsupervised examples...:  55%|█████▌    | 27687/50000 [00:09<00:04, 4698.35 examples/s]\u001b[A\n",
      "Generating unsupervised examples...:  56%|█████▋    | 28167/50000 [00:09<00:04, 4725.05 examples/s]\u001b[A\n",
      "Generating unsupervised examples...:  57%|█████▋    | 28640/50000 [00:09<00:04, 4651.99 examples/s]\u001b[A\n",
      "Generating unsupervised examples...:  58%|█████▊    | 29120/50000 [00:09<00:04, 4694.12 examples/s]\u001b[A\n",
      "Generating unsupervised examples...:  59%|█████▉    | 29606/50000 [00:10<00:04, 4741.31 examples/s]\u001b[A\n",
      "Generating unsupervised examples...:  60%|██████    | 30102/50000 [00:10<00:04, 4803.15 examples/s]\u001b[A\n",
      "Generating unsupervised examples...:  61%|██████    | 30584/50000 [00:10<00:04, 4807.24 examples/s]\u001b[A\n",
      "Generating unsupervised examples...:  62%|██████▏   | 31066/50000 [00:10<00:03, 4783.68 examples/s]\u001b[A\n",
      "Generating unsupervised examples...:  63%|██████▎   | 31550/50000 [00:10<00:03, 4799.83 examples/s]\u001b[A\n",
      "Generating unsupervised examples...:  64%|██████▍   | 32038/50000 [00:10<00:03, 4823.34 examples/s]\u001b[A\n",
      "Generating unsupervised examples...:  65%|██████▌   | 32524/50000 [00:10<00:03, 4833.78 examples/s]\u001b[A\n",
      "Generating unsupervised examples...:  66%|██████▌   | 33008/50000 [00:10<00:03, 4819.29 examples/s]\u001b[A\n",
      "Generating unsupervised examples...:  67%|██████▋   | 33491/50000 [00:10<00:03, 4768.45 examples/s]\u001b[A\n",
      "Generating unsupervised examples...:  68%|██████▊   | 33975/50000 [00:10<00:03, 4788.06 examples/s]\u001b[A\n",
      "Generating unsupervised examples...:  69%|██████▉   | 34454/50000 [00:11<00:03, 4621.42 examples/s]\u001b[A\n",
      "Generating unsupervised examples...:  70%|██████▉   | 34918/50000 [00:11<00:03, 4624.28 examples/s]\u001b[A\n",
      "Generating unsupervised examples...:  71%|███████   | 35382/50000 [00:11<00:03, 4603.47 examples/s]\u001b[A\n",
      "Generating unsupervised examples...:  72%|███████▏  | 35844/50000 [00:11<00:03, 4589.97 examples/s]\u001b[A\n",
      "Generating unsupervised examples...:  73%|███████▎  | 36304/50000 [00:11<00:02, 4589.94 examples/s]\u001b[A\n",
      "Generating unsupervised examples...:  74%|███████▎  | 36764/50000 [00:11<00:02, 4579.11 examples/s]\u001b[A\n",
      "Generating unsupervised examples...:  74%|███████▍  | 37223/50000 [00:11<00:02, 4574.31 examples/s]\u001b[A\n",
      "Generating unsupervised examples...:  75%|███████▌  | 37681/50000 [00:11<00:02, 4520.51 examples/s]\u001b[A\n",
      "Generating unsupervised examples...:  76%|███████▋  | 38134/50000 [00:11<00:02, 4510.85 examples/s]\u001b[A\n",
      "Generating unsupervised examples...:  77%|███████▋  | 38594/50000 [00:12<00:02, 4536.26 examples/s]\u001b[A\n",
      "Generating unsupervised examples...:  78%|███████▊  | 39049/50000 [00:12<00:02, 4537.06 examples/s]\u001b[A\n",
      "Generating unsupervised examples...:  79%|███████▉  | 39507/50000 [00:12<00:02, 4548.56 examples/s]\u001b[A\n",
      "Generating unsupervised examples...:  80%|███████▉  | 39962/50000 [00:12<00:02, 4502.21 examples/s]\u001b[A\n",
      "Generating unsupervised examples...:  81%|████████  | 40418/50000 [00:12<00:02, 4517.50 examples/s]\u001b[A\n",
      "Generating unsupervised examples...:  82%|████████▏ | 40874/50000 [00:12<00:02, 4527.48 examples/s]\u001b[A\n",
      "Generating unsupervised examples...:  83%|████████▎ | 41327/50000 [00:12<00:01, 4502.92 examples/s]\u001b[A\n",
      "Generating unsupervised examples...:  84%|████████▎ | 41781/50000 [00:12<00:01, 4512.61 examples/s]\u001b[A\n",
      "Generating unsupervised examples...:  84%|████████▍ | 42233/50000 [00:12<00:01, 4442.76 examples/s]\u001b[A\n",
      "Generating unsupervised examples...:  85%|████████▌ | 42678/50000 [00:12<00:01, 4176.38 examples/s]\u001b[A\n",
      "Generating unsupervised examples...:  86%|████████▋ | 43126/50000 [00:13<00:01, 4261.22 examples/s]\u001b[A\n",
      "Generating unsupervised examples...:  87%|████████▋ | 43562/50000 [00:13<00:01, 4288.08 examples/s]\u001b[A\n",
      "Generating unsupervised examples...:  88%|████████▊ | 44012/50000 [00:13<00:01, 4347.38 examples/s]\u001b[A\n",
      "Generating unsupervised examples...:  89%|████████▉ | 44459/50000 [00:13<00:01, 4381.47 examples/s]\u001b[A\n",
      "Generating unsupervised examples...:  90%|████████▉ | 44910/50000 [00:13<00:01, 4418.84 examples/s]\u001b[A\n",
      "Generating unsupervised examples...:  91%|█████████ | 45358/50000 [00:13<00:01, 4435.60 examples/s]\u001b[A\n",
      "Generating unsupervised examples...:  92%|█████████▏| 45807/50000 [00:13<00:00, 4449.15 examples/s]\u001b[A\n",
      "Generating unsupervised examples...:  93%|█████████▎| 46259/50000 [00:13<00:00, 4469.09 examples/s]\u001b[A\n",
      "Generating unsupervised examples...:  93%|█████████▎| 46707/50000 [00:13<00:00, 4328.79 examples/s]\u001b[A\n",
      "Generating unsupervised examples...:  94%|█████████▍| 47197/50000 [00:13<00:00, 4483.48 examples/s]\u001b[A\n",
      "Generating unsupervised examples...:  95%|█████████▌| 47694/50000 [00:14<00:00, 4618.96 examples/s]\u001b[A\n",
      "Generating unsupervised examples...:  96%|█████████▋| 48173/50000 [00:14<00:00, 4667.61 examples/s]\u001b[A\n",
      "Generating unsupervised examples...:  97%|█████████▋| 48642/50000 [00:14<00:00, 4667.33 examples/s]\u001b[A\n",
      "Generating unsupervised examples...:  98%|█████████▊| 49111/50000 [00:14<00:00, 4646.31 examples/s]\u001b[A\n",
      "Generating unsupervised examples...:  99%|█████████▉| 49577/50000 [00:14<00:00, 4643.21 examples/s]\u001b[A\n",
      "                                                                                                   \u001b[A\n",
      "Shuffling imdb_reviews-unsupervised.tfrecord...:   0%|          | 0/50000 [00:00<?, ? examples/s]\u001b[A\n",
      "Shuffling imdb_reviews-unsupervised.tfrecord...:  52%|█████▏    | 26176/50000 [00:00<00:00, 261757.13 examples/s]\u001b[A\n",
      "\u001b[1mDataset imdb_reviews downloaded and prepared to /home/johnny/tensorflow_datasets/imdb_reviews/plain_text/1.0.0. Subsequent calls will reuse this data.\u001b[0m\n"
     ]
    }
   ],
   "source": [
    "import tensorflow_datasets as tfds\n",
    "\n",
    "datasets, info = tfds.load(\"imdb_reviews\", as_supervised=True, with_info=True)"
   ]
  },
  {
   "cell_type": "code",
   "execution_count": 16,
   "metadata": {},
   "outputs": [
    {
     "output_type": "stream",
     "name": "stdout",
     "text": [
      "Review: This was an absolutely terrible movie. Don't be lured in by Christopher Walken or Michael Ironside. Both are great actors, but this must simply be their worst role in history. Even their great acting  ...\nLabel: 0 = Negative\n\nReview: I have been known to fall asleep during films, but this is usually due to a combination of things including, really tired, being warm and comfortable on the sette and having just eaten a lot. However  ...\nLabel: 0 = Negative\n\n"
     ]
    },
    {
     "output_type": "execute_result",
     "data": {
      "text/plain": [
       "(<tf.Tensor: shape=(2, 53), dtype=string, numpy=\n",
       " array([[b'This', b'was', b'an', b'absolutely', b'terrible', b'movie',\n",
       "         b\"Don't\", b'be', b'lured', b'in', b'by', b'Christopher',\n",
       "         b'Walken', b'or', b'Michael', b'Ironside', b'Both', b'are',\n",
       "         b'great', b'actors', b'but', b'this', b'must', b'simply', b'be',\n",
       "         b'their', b'worst', b'role', b'in', b'history', b'Even',\n",
       "         b'their', b'great', b'acting', b'could', b'not', b'redeem',\n",
       "         b'this', b\"movie's\", b'ridiculous', b'storyline', b'This',\n",
       "         b'movie', b'is', b'an', b'early', b'nineties', b'US',\n",
       "         b'propaganda', b'pi', b'<pad>', b'<pad>', b'<pad>'],\n",
       "        [b'I', b'have', b'been', b'known', b'to', b'fall', b'asleep',\n",
       "         b'during', b'films', b'but', b'this', b'is', b'usually', b'due',\n",
       "         b'to', b'a', b'combination', b'of', b'things', b'including',\n",
       "         b'really', b'tired', b'being', b'warm', b'and', b'comfortable',\n",
       "         b'on', b'the', b'sette', b'and', b'having', b'just', b'eaten',\n",
       "         b'a', b'lot', b'However', b'on', b'this', b'occasion', b'I',\n",
       "         b'fell', b'asleep', b'because', b'the', b'film', b'was',\n",
       "         b'rubbish', b'The', b'plot', b'development', b'was', b'constant',\n",
       "         b'Cons']], dtype=object)>,\n",
       " <tf.Tensor: shape=(2,), dtype=int64, numpy=array([0, 0])>)"
      ]
     },
     "metadata": {},
     "execution_count": 16
    }
   ],
   "source": [
    "train_size = info.splits[\"train\"].num_examples\n",
    "test_size = info.splits[\"test\"].num_examples\n",
    "\n",
    "for X_batch, y_batch in datasets[\"train\"].batch(2).take(1):\n",
    "    for review, label in zip(X_batch.numpy(), y_batch.numpy()):\n",
    "        print(\"Review:\", review.decode(\"utf-8\")[:200], \"...\")\n",
    "        print(\"Label:\", label, \"= Positive\" if label else \"= Negative\")\n",
    "        print()\n",
    "\n",
    "def preprocess(X_batch, y_batch):\n",
    "    X_batch = tf.strings.substr(X_batch, 0, 300)\n",
    "    # On remplace les mises à la ligne par des espaces\n",
    "    X_batch = tf.strings.regex_replace(X_batch, rb\"<br\\s*/?>\", b\" \")\n",
    "    X_batch = tf.strings.regex_replace(X_batch, b\"[^a-zA-Z']\", b\" \")\n",
    "    # On récupère chaque mot en splittant sur les espaces.\n",
    "    X_batch = tf.strings.split(X_batch)\n",
    "    # On met un padding pour que toutes les instances ont la même longueur\n",
    "    return X_batch.to_tensor(default_value=b\"<pad>\"), y_batch\n",
    "preprocess(X_batch, y_batch)"
   ]
  },
  {
   "cell_type": "code",
   "execution_count": 17,
   "metadata": {},
   "outputs": [
    {
     "output_type": "stream",
     "name": "stdout",
     "text": [
      "tf.Tensor(\n[[  22   11   28 ...    0    0    0]\n [   6   21   70 ...    0    0    0]\n [4099 6881    1 ...    0    0    0]\n ...\n [  22   12  118 ...  331 1047    0]\n [1757 4101  451 ...    0    0    0]\n [3365 4392    6 ...    0    0    0]], shape=(32, 60), dtype=int64)\ntf.Tensor([0 0 0 1 1 1 0 0 0 0 0 1 1 0 1 0 1 1 1 0 1 1 1 1 1 0 0 0 1 0 0 0], shape=(32,), dtype=int64)\n"
     ]
    }
   ],
   "source": [
    "# Construire le vocabulaire \n",
    "from collections import Counter\n",
    "\n",
    "vocabulary = Counter()\n",
    "for X_batch, y_batch in datasets[\"train\"].batch(32).map(preprocess):\n",
    "    for review in X_batch:\n",
    "        vocabulary.update(list(review.numpy()))\n",
    "\n",
    "vocab_size = 10000\n",
    "truncated_vocabulary = [\n",
    "    word for word, count in vocabulary.most_common()[:vocab_size]]\n",
    "\n",
    "# Créer la table de lookup\n",
    "words = tf.constant(truncated_vocabulary)\n",
    "word_ids = tf.range(len(truncated_vocabulary), dtype=tf.int64)\n",
    "vocab_init = tf.lookup.KeyValueTensorInitializer(words, word_ids)\n",
    "num_oov_buckets = 1000\n",
    "table = tf.lookup.StaticVocabularyTable(vocab_init, num_oov_buckets)\n",
    "\n",
    "def encode_words(X_batch, y_batch):\n",
    "    return table.lookup(X_batch), y_batch\n",
    "\n",
    "for X_batch, y_batch in train_set.take(1):\n",
    "    print(X_batch)\n",
    "    print(y_batch)"
   ]
  },
  {
   "cell_type": "code",
   "execution_count": 21,
   "metadata": {},
   "outputs": [],
   "source": [
    "train_set = datasets[\"train\"].repeat().batch(32).map(preprocess).map(encode_words).prefetch(1)\n",
    "# valid_set = datasets[\"validation\"].batch(32).map(preprocess).map(encode_words).prefetch(1)\n",
    "test_set = datasets[\"test\"].batch(32).map(preprocess).map(encode_words).prefetch(1)\n",
    "\n"
   ]
  },
  {
   "cell_type": "code",
   "execution_count": 22,
   "metadata": {},
   "outputs": [
    {
     "output_type": "stream",
     "name": "stdout",
     "text": [
      "Epoch 1/5\n",
      "781/781 [==============================] - 22s 22ms/step - loss: 0.6066 - accuracy: 0.6383 - val_loss: 0.4730 - val_accuracy: 0.7727\n",
      "Epoch 2/5\n",
      "781/781 [==============================] - 16s 21ms/step - loss: 0.3685 - accuracy: 0.8419 - val_loss: 0.5046 - val_accuracy: 0.7641\n",
      "Epoch 3/5\n",
      "781/781 [==============================] - 17s 22ms/step - loss: 0.2106 - accuracy: 0.9207 - val_loss: 0.6346 - val_accuracy: 0.7437\n",
      "Epoch 4/5\n",
      "781/781 [==============================] - 17s 22ms/step - loss: 0.1391 - accuracy: 0.9511 - val_loss: 0.7298 - val_accuracy: 0.7336\n",
      "Epoch 5/5\n",
      "781/781 [==============================] - 17s 22ms/step - loss: 0.1067 - accuracy: 0.9617 - val_loss: 0.9589 - val_accuracy: 0.7261\n"
     ]
    }
   ],
   "source": [
    "embed_size = 128\n",
    "model = keras.models.Sequential([\n",
    "    keras.layers.Embedding(vocab_size + num_oov_buckets, embed_size,\n",
    "                           mask_zero=True, # not shown in the book\n",
    "                           input_shape=[None]),\n",
    "    keras.layers.GRU(128, return_sequences=True),\n",
    "    keras.layers.GRU(128),\n",
    "    keras.layers.Dense(1, activation=\"sigmoid\")\n",
    "])\n",
    "model.compile(loss=\"binary_crossentropy\", optimizer=\"adam\", metrics=[\"accuracy\"])\n",
    "history = model.fit(train_set, validation_data=test_set, steps_per_epoch=train_size // 32, epochs=5)"
   ]
  },
  {
   "source": [
    "# Réutiliser des plongements pré-entrainés"
   ],
   "cell_type": "markdown",
   "metadata": {}
  },
  {
   "cell_type": "code",
   "execution_count": 27,
   "metadata": {},
   "outputs": [
    {
     "output_type": "stream",
     "name": "stdout",
     "text": [
      "WARNING:tensorflow:5 out of the last 5 calls to <function recreate_function.<locals>.restored_function_body at 0x7fd270b3a840> triggered tf.function retracing. Tracing is expensive and the excessive number of tracings could be due to (1) creating @tf.function repeatedly in a loop, (2) passing tensors with different shapes, (3) passing Python objects instead of tensors. For (1), please define your @tf.function outside of the loop. For (2), @tf.function has experimental_relax_shapes=True option that relaxes argument shapes that can avoid unnecessary retracing. For (3), please refer to https://www.tensorflow.org/guide/function#controlling_retracing and https://www.tensorflow.org/api_docs/python/tf/function for  more details.\n",
      "WARNING:tensorflow:5 out of the last 5 calls to <function recreate_function.<locals>.restored_function_body at 0x7fd270b3a840> triggered tf.function retracing. Tracing is expensive and the excessive number of tracings could be due to (1) creating @tf.function repeatedly in a loop, (2) passing tensors with different shapes, (3) passing Python objects instead of tensors. For (1), please define your @tf.function outside of the loop. For (2), @tf.function has experimental_relax_shapes=True option that relaxes argument shapes that can avoid unnecessary retracing. For (3), please refer to https://www.tensorflow.org/guide/function#controlling_retracing and https://www.tensorflow.org/api_docs/python/tf/function for  more details.\n",
      "WARNING:tensorflow:6 out of the last 6 calls to <function recreate_function.<locals>.restored_function_body at 0x7fd270b2ee18> triggered tf.function retracing. Tracing is expensive and the excessive number of tracings could be due to (1) creating @tf.function repeatedly in a loop, (2) passing tensors with different shapes, (3) passing Python objects instead of tensors. For (1), please define your @tf.function outside of the loop. For (2), @tf.function has experimental_relax_shapes=True option that relaxes argument shapes that can avoid unnecessary retracing. For (3), please refer to https://www.tensorflow.org/guide/function#controlling_retracing and https://www.tensorflow.org/api_docs/python/tf/function for  more details.\n",
      "WARNING:tensorflow:6 out of the last 6 calls to <function recreate_function.<locals>.restored_function_body at 0x7fd270b2ee18> triggered tf.function retracing. Tracing is expensive and the excessive number of tracings could be due to (1) creating @tf.function repeatedly in a loop, (2) passing tensors with different shapes, (3) passing Python objects instead of tensors. For (1), please define your @tf.function outside of the loop. For (2), @tf.function has experimental_relax_shapes=True option that relaxes argument shapes that can avoid unnecessary retracing. For (3), please refer to https://www.tensorflow.org/guide/function#controlling_retracing and https://www.tensorflow.org/api_docs/python/tf/function for  more details.\n",
      "Epoch 1/5\n",
      "781/781 [==============================] - 5s 5ms/step - loss: 0.5876 - accuracy: 0.6892 - val_loss: 0.5264 - val_accuracy: 0.7369\n",
      "Epoch 2/5\n",
      "781/781 [==============================] - 5s 6ms/step - loss: 0.5200 - accuracy: 0.7428 - val_loss: 0.5192 - val_accuracy: 0.7414\n",
      "Epoch 3/5\n",
      "781/781 [==============================] - 5s 7ms/step - loss: 0.5137 - accuracy: 0.7469 - val_loss: 0.5155 - val_accuracy: 0.7460\n",
      "Epoch 4/5\n",
      "781/781 [==============================] - 5s 6ms/step - loss: 0.5095 - accuracy: 0.7512 - val_loss: 0.5130 - val_accuracy: 0.7470\n",
      "Epoch 5/5\n",
      "781/781 [==============================] - 5s 6ms/step - loss: 0.5062 - accuracy: 0.7506 - val_loss: 0.5110 - val_accuracy: 0.7475\n"
     ]
    }
   ],
   "source": [
    "import tensorflow_hub as hub\n",
    "\n",
    "model = keras.Sequential([\n",
    "    hub.KerasLayer(\"https://tfhub.dev/google/tf2-preview/nnlm-en-dim50/1\",\n",
    "                   dtype=tf.string, input_shape=[], output_shape=[50]),\n",
    "    # On ne peut plus utiliser de cellules GRU ou LSTM car nous n'avons plus la dimension temporelle ici, chaque phrase étant encodée par un seul vecteur.\n",
    "    keras.layers.Dense(128, activation=\"relu\"),\n",
    "    keras.layers.Dense(1, activation=\"sigmoid\")\n",
    "])\n",
    "model.compile(loss=\"binary_crossentropy\", optimizer=\"adam\",\n",
    "              metrics=[\"accuracy\"])\n",
    "\n",
    "import tensorflow_datasets as tfds\n",
    "\n",
    "datasets, info = tfds.load(\"imdb_reviews\", as_supervised=True, with_info=True)\n",
    "train_size = info.splits[\"train\"].num_examples\n",
    "batch_size = 32\n",
    "train_set = datasets[\"train\"].repeat().batch(32).prefetch(1)\n",
    "test_set = datasets[\"test\"].batch(32).prefetch(1)\n",
    "history = model.fit(train_set, validation_data=test_set, steps_per_epoch=train_size // batch_size, epochs=5)"
   ]
  }
 ]
}