{
 "metadata": {
  "language_info": {
   "codemirror_mode": {
    "name": "ipython",
    "version": 3
   },
   "file_extension": ".py",
   "mimetype": "text/x-python",
   "name": "python",
   "nbconvert_exporter": "python",
   "pygments_lexer": "ipython3",
   "version": "3.6.9-final"
  },
  "orig_nbformat": 2,
  "kernelspec": {
   "name": "python3",
   "display_name": "Python 3.6.9 64-bit",
   "metadata": {
    "interpreter": {
     "hash": "31f2aee4e71d21fbe5cf8b01ff0e069b9275f58929596ceb00d14d90e3e16cd6"
    }
   }
  }
 },
 "nbformat": 4,
 "nbformat_minor": 2,
 "cells": [
  {
   "cell_type": "code",
   "execution_count": 18,
   "metadata": {},
   "outputs": [],
   "source": [
    "import numpy as np\n",
    "import matplotlib.pyplot as plt\n",
    "import tensorflow as tf\n",
    "import tensorflow.keras as keras\n",
    "\n",
    "from tf_agents.environments.tf_py_environment import TFPyEnvironment\n"
   ]
  },
  {
   "cell_type": "code",
   "execution_count": 3,
   "metadata": {},
   "outputs": [],
   "source": [
    "from tf_agents.environments import suite_atari\n",
    "from tf_agents.environments.atari_preprocessing import AtariPreprocessing\n",
    "from tf_agents.environments.atari_wrappers import FrameStack4\n",
    "\n",
    "max_episode_steps = 27000 # <=> 108k ALE frames since 1 step = 4 frames\n",
    "environment_name = \"BreakoutNoFrameskip-v4\"\n",
    "\n",
    "env = suite_atari.load(\n",
    "    environment_name,\n",
    "    max_episode_steps=max_episode_steps,\n",
    "    gym_env_wrappers=[AtariPreprocessing, FrameStack4])\n"
   ]
  },
  {
   "cell_type": "code",
   "execution_count": 19,
   "metadata": {},
   "outputs": [],
   "source": [
    "tf_env = TFPyEnvironment(env)"
   ]
  },
  {
   "cell_type": "code",
   "execution_count": 13,
   "metadata": {},
   "outputs": [
    {
     "output_type": "stream",
     "name": "stdout",
     "text": [
      "(84, 84, 4)\n"
     ]
    },
    {
     "output_type": "display_data",
     "data": {
      "text/plain": "<Figure size 432x432 with 1 Axes>",
      "image/svg+xml": "<?xml version=\"1.0\" encoding=\"utf-8\" standalone=\"no\"?>\n<!DOCTYPE svg PUBLIC \"-//W3C//DTD SVG 1.1//EN\"\n  \"http://www.w3.org/Graphics/SVG/1.1/DTD/svg11.dtd\">\n<!-- Created with matplotlib (https://matplotlib.org/) -->\n<svg height=\"340.56pt\" version=\"1.1\" viewBox=\"0 0 340.56 340.56\" width=\"340.56pt\" xmlns=\"http://www.w3.org/2000/svg\" xmlns:xlink=\"http://www.w3.org/1999/xlink\">\n <defs>\n  <style type=\"text/css\">\n*{stroke-linecap:butt;stroke-linejoin:round;}\n  </style>\n </defs>\n <g id=\"figure_1\">\n  <g id=\"patch_1\">\n   <path d=\"M 0 340.56 \nL 340.56 340.56 \nL 340.56 0 \nL 0 0 \nz\n\" style=\"fill:none;\"/>\n  </g>\n  <g id=\"axes_1\">\n   <g clip-path=\"url(#p705d7b2494)\">\n    <image height=\"327\" id=\"image92d1288712\" transform=\"scale(1 -1)translate(0 -327)\" width=\"327\" x=\"7.2\" xlink:href=\"data:image/png;base64,\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\" y=\"-6.36\"/>\n   </g>\n  </g>\n </g>\n <defs>\n  <clipPath id=\"p705d7b2494\">\n   <rect height=\"326.16\" width=\"326.16\" x=\"7.2\" y=\"7.2\"/>\n  </clipPath>\n </defs>\n</svg>\n",
      "image/png": "[encoded data removed]"
     },
     "metadata": {
      "needs_background": "light"
     }
    }
   ],
   "source": [
    "def plot_observation(obs):\n",
    "    # Since there are only 3 color channels, you cannot display 4 frames\n",
    "    # with one primary color per frame. So this code computes the delta between\n",
    "    # the current frame and the mean of the other frames, and it adds this delta\n",
    "    # to the red and blue channels to get a pink color for the current frame.\n",
    "    obs = obs.astype(np.float32)\n",
    "    img = obs[..., :3]\n",
    "    current_frame_delta = np.maximum(obs[..., 3] - obs[..., :3].mean(axis=-1), 0.)\n",
    "    img[..., 0] += current_frame_delta\n",
    "    img[..., 2] += current_frame_delta\n",
    "    img = np.clip(img / 150, 0, 1)\n",
    "    plt.imshow(img)\n",
    "    plt.axis(\"off\")\n",
    "\n",
    "env.seed(42)\n",
    "env.reset()\n",
    "time_step = env.step(np.array(1)) # FIRE\n",
    "for _ in range(4):\n",
    "    time_step = env.step(np.array(3)) # LEFT\n",
    "\n",
    "print(time_step.observation.shape)\n",
    "\n",
    "plt.figure(figsize=(6, 6))\n",
    "plot_observation(time_step.observation)\n",
    "plt.show()"
   ]
  },
  {
   "cell_type": "code",
   "execution_count": 20,
   "metadata": {},
   "outputs": [],
   "source": [
    "# Création du réseau Q pour notre algo DQN. Dans le cas d'un DQN-double, l'agent DQN qui sera utilisé crééra/copiera lui-même ce réseau pour le 2ème, ainsi nous n'avons pas besoin de créer nous même le 2ème.\n",
    "\n",
    "from tf_agents.networks.q_network import QNetwork\n",
    "\n",
    "preprocessing_layer = keras.layers.Lambda(\n",
    "                          lambda obs: tf.cast(obs, np.float32) / 255.)\n",
    "conv_layer_params=[(32, (8, 8), 4), (64, (4, 4), 2), (64, (3, 3), 1)]\n",
    "fc_layer_params=[512]\n",
    "\n",
    "q_net = QNetwork(\n",
    "    tf_env.observation_spec(),\n",
    "    tf_env.action_spec(),\n",
    "    preprocessing_layers=preprocessing_layer,\n",
    "    conv_layer_params=conv_layer_params,\n",
    "    fc_layer_params=fc_layer_params)"
   ]
  },
  {
   "cell_type": "code",
   "execution_count": 26,
   "metadata": {},
   "outputs": [],
   "source": [
    "# Création de l'agent DQN\n",
    "from tf_agents.agents.dqn.dqn_agent import DqnAgent\n",
    "\n",
    "# see TF-agents issue #113\n",
    "#optimizer = keras.optimizers.RMSprop(lr=2.5e-4, rho=0.95, momentum=0.0,\n",
    "#                                     epsilon=0.00001, centered=True)\n",
    "\n",
    "train_step = tf.Variable(0)\n",
    "update_period = 4 # run a training step every 4 collect steps\n",
    "optimizer = tf.compat.v1.train.RMSPropOptimizer(learning_rate=2.5e-4, decay=0.95, momentum=0.0,\n",
    "                                     epsilon=0.00001, centered=True)\n",
    "epsilon_fn = keras.optimizers.schedules.PolynomialDecay(\n",
    "    initial_learning_rate=1.0, # initial ε\n",
    "    decay_steps=250000 // update_period, # <=> 1,000,000 ALE frames\n",
    "    end_learning_rate=0.01) # final ε\n",
    "agent = DqnAgent(tf_env.time_step_spec(),\n",
    "                 tf_env.action_spec(),\n",
    "                 q_network=q_net,\n",
    "                 optimizer=optimizer,\n",
    "                 target_update_period=2000, # <=> 32,000 ALE frames\n",
    "                 td_errors_loss_fn=keras.losses.Huber(reduction=\"none\"),\n",
    "                 gamma=0.99, # discount factor\n",
    "                 train_step_counter=train_step,\n",
    "                 epsilon_greedy=lambda: epsilon_fn(train_step))\n",
    "agent.initialize()\n",
    "\n"
   ]
  },
  {
   "cell_type": "code",
   "execution_count": null,
   "metadata": {},
   "outputs": [],
   "source": [
    "# Création de notre mémoire de rejeu qui va échantillonner le batch de rejeu\n",
    "from tf_agents.replay_buffers import tf_uniform_replay_buffer\n",
    "\n",
    "replay_buffer = tf_uniform_replay_buffer.TFUniformReplayBuffer(\n",
    "    data_spec=agent.collect_data_spec,\n",
    "    batch_size=tf_env.batch_size, # Ici ça devrait être 1, car on ne met qu'une trajectoire à la fois\n",
    "    max_length=10000) # 1M = Out of memory\n",
    "\n",
    "# Création de notre Observeur qui va recevoir une trajectoire à chaque étape de collecte, puis qui va mettre en mémoire la trajectoire\n",
    "\n",
    "replay_buffer_observer = replay_buffer.add_batch\n"
   ]
  },
  {
   "cell_type": "code",
   "execution_count": 27,
   "metadata": {},
   "outputs": [
    {
     "output_type": "stream",
     "name": "stderr",
     "text": [
      "INFO:absl: \n\t\t NumberOfEpisodes = 0\n\t\t EnvironmentSteps = 0\n\t\t AverageReturn = 0.0\n\t\t AverageEpisodeLength = 0.0\n"
     ]
    }
   ],
   "source": [
    "# Création des métriques \n",
    "from tf_agents.metrics import tf_metrics\n",
    "\n",
    "train_metrics = [\n",
    "    tf_metrics.NumberOfEpisodes(),\n",
    "    tf_metrics.EnvironmentSteps(),\n",
    "    tf_metrics.AverageReturnMetric(),\n",
    "    tf_metrics.AverageEpisodeLengthMetric(),\n",
    "]\n",
    "\n",
    "from tf_agents.eval.metric_utils import log_metrics\n",
    "import logging\n",
    "logging.getLogger().setLevel(logging.INFO)\n",
    "log_metrics(train_metrics)"
   ]
  },
  {
   "cell_type": "code",
   "execution_count": 30,
   "metadata": {},
   "outputs": [],
   "source": [
    "class ShowProgress:\n",
    "    def __init__(self, total):\n",
    "        self.counter = 0\n",
    "        self.total = total\n",
    "    def __call__(self, trajectory):\n",
    "        if not trajectory.is_boundary():\n",
    "            self.counter += 1\n",
    "        if self.counter % 100 == 0:\n",
    "            print(\"\\r{}/{}\".format(self.counter, self.total), end=\"\")"
   ]
  },
  {
   "cell_type": "code",
   "execution_count": 28,
   "metadata": {},
   "outputs": [],
   "source": [
    "# Création du pilote de collecte, celui qui ira explorer et qui rapportera les observations\n",
    "from tf_agents.drivers.dynamic_step_driver import DynamicStepDriver\n",
    "\n",
    "collect_driver = DynamicStepDriver(\n",
    "    tf_env,\n",
    "    agent.collect_policy,\n",
    "    observers=[replay_buffer_observer] + train_metrics,\n",
    "    num_steps=update_period) # collect 4 steps for each training iteration => càd qu'à chaque fois qu'il sera appelé, il récupérera 4 étapes"
   ]
  },
  {
   "cell_type": "code",
   "execution_count": 31,
   "metadata": {},
   "outputs": [
    {
     "output_type": "stream",
     "name": "stdout",
     "text": [
      "WARNING:tensorflow:From /home/johnny/.local/lib/python3.6/site-packages/tf_agents/drivers/dynamic_step_driver.py:203: calling while_loop_v2 (from tensorflow.python.ops.control_flow_ops) with back_prop=False is deprecated and will be removed in a future version.\n",
      "Instructions for updating:\n",
      "back_prop=False is deprecated. Consider using tf.stop_gradient instead.\n",
      "Instead of:\n",
      "results = tf.while_loop(c, b, vars, back_prop=False)\n",
      "Use:\n",
      "results = tf.nest.map_structure(tf.stop_gradient, tf.while_loop(c, b, vars))\n",
      "WARNING:tensorflow:From /home/johnny/.local/lib/python3.6/site-packages/tf_agents/drivers/dynamic_step_driver.py:203: calling while_loop_v2 (from tensorflow.python.ops.control_flow_ops) with back_prop=False is deprecated and will be removed in a future version.\n",
      "Instructions for updating:\n",
      "back_prop=False is deprecated. Consider using tf.stop_gradient instead.\n",
      "Instead of:\n",
      "results = tf.while_loop(c, b, vars, back_prop=False)\n",
      "Use:\n",
      "results = tf.nest.map_structure(tf.stop_gradient, tf.while_loop(c, b, vars))\n",
      "20000/20000"
     ]
    }
   ],
   "source": [
    "# Une initialisation au préalable pour remplir la mémoire de rejeu.\n",
    "from tf_agents.policies.random_tf_policy import RandomTFPolicy\n",
    "\n",
    "initial_collect_policy = RandomTFPolicy(tf_env.time_step_spec(),\n",
    "                                        tf_env.action_spec())\n",
    "init_driver = DynamicStepDriver(\n",
    "    tf_env,\n",
    "    initial_collect_policy,\n",
    "    observers=[replay_buffer.add_batch, ShowProgress(20000)], # On indique le même observeur afin qu'on stock dans la même mémoire que celle prévue initialement\n",
    "    num_steps=20000) # <=> 80,000 ALE frames  :  Comme on ne va l'appeler qu'une fois, on demande de récupérer 20 000 étapes directement\n",
    "final_time_step, final_policy_state = init_driver.run()"
   ]
  },
  {
   "cell_type": "code",
   "execution_count": 34,
   "metadata": {},
   "outputs": [
    {
     "output_type": "stream",
     "name": "stdout",
     "text": [
      "('step_type', 'observation', 'action', 'policy_info', 'next_step_type', 'reward', 'discount')\n(2, 3, 84, 84, 4)\n[[1 1 1]\n [1 1 1]]\n"
     ]
    },
    {
     "output_type": "display_data",
     "data": {
      "text/plain": "<Figure size 720x489.6 with 6 Axes>",
      "image/svg+xml": "<?xml version=\"1.0\" encoding=\"utf-8\" standalone=\"no\"?>\n<!DOCTYPE svg PUBLIC \"-//W3C//DTD SVG 1.1//EN\"\n  \"http://www.w3.org/Graphics/SVG/1.1/DTD/svg11.dtd\">\n<!-- Created with matplotlib (https://matplotlib.org/) -->\n<svg height=\"496.042105pt\" version=\"1.1\" viewBox=\"0 0 734.4 496.042105\" width=\"734.4pt\" xmlns=\"http://www.w3.org/2000/svg\" xmlns:xlink=\"http://www.w3.org/1999/xlink\">\n <defs>\n  <style type=\"text/css\">\n*{stroke-linecap:butt;stroke-linejoin:round;}\n  </style>\n </defs>\n <g id=\"figure_1\">\n  <g id=\"patch_1\">\n   <path d=\"M 0 496.042105 \nL 734.4 496.042105 \nL 734.4 0 \nL 0 0 \nz\n\" style=\"fill:none;\"/>\n  </g>\n  <g id=\"axes_1\">\n   <g clip-path=\"url(#pe79537190d)\">\n    <image height=\"237\" id=\"imagef05e587a4e\" transform=\"scale(1 -1)translate(0 -237)\" width=\"237\" x=\"7.2\" xlink:href=\"data:image/png;base64,\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\" y=\"-7.042105\"/>\n   </g>\n  </g>\n  <g id=\"axes_2\">\n   <g clip-path=\"url(#pa5ec38272a)\">\n    <image height=\"237\" id=\"image6e748e6866\" transform=\"scale(1 -1)translate(0 -237)\" width=\"237\" x=\"248.778947\" xlink:href=\"data:image/png;base64,\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\" y=\"-7.042105\"/>\n   </g>\n  </g>\n  <g id=\"axes_3\">\n   <g clip-path=\"url(#p1604a584c7)\">\n    <image height=\"237\" id=\"imageb4400ebc25\" transform=\"scale(1 -1)translate(0 -237)\" width=\"237\" x=\"490.357895\" xlink:href=\"data:image/png;base64,\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\" y=\"-7.042105\"/>\n   </g>\n  </g>\n  <g id=\"axes_4\">\n   <g clip-path=\"url(#p42374bbdea)\">\n    <image height=\"237\" id=\"image31444a370c\" transform=\"scale(1 -1)translate(0 -237)\" width=\"237\" x=\"7.2\" xlink:href=\"data:image/png;base64,\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\" y=\"-251.842105\"/>\n   </g>\n  </g>\n  <g id=\"axes_5\">\n   <g clip-path=\"url(#pedc1de1fc2)\">\n    <image height=\"237\" id=\"image12c764f186\" transform=\"scale(1 -1)translate(0 -237)\" width=\"237\" x=\"248.778947\" xlink:href=\"data:image/png;base64,\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\" y=\"-251.842105\"/>\n   </g>\n  </g>\n  <g id=\"axes_6\">\n   <g clip-path=\"url(#p0d3cee55e0)\">\n    <image height=\"237\" id=\"image06d53cce4d\" transform=\"scale(1 -1)translate(0 -237)\" width=\"237\" x=\"490.357895\" xlink:href=\"data:image/png;base64,\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\" y=\"-251.842105\"/>\n   </g>\n  </g>\n </g>\n <defs>\n  <clipPath id=\"pe79537190d\">\n   <rect height=\"236.842105\" width=\"236.842105\" x=\"7.2\" y=\"7.2\"/>\n  </clipPath>\n  <clipPath id=\"pa5ec38272a\">\n   <rect height=\"236.842105\" width=\"236.842105\" x=\"248.778947\" y=\"7.2\"/>\n  </clipPath>\n  <clipPath id=\"p1604a584c7\">\n   <rect height=\"236.842105\" width=\"236.842105\" x=\"490.357895\" y=\"7.2\"/>\n  </clipPath>\n  <clipPath id=\"p42374bbdea\">\n   <rect height=\"236.842105\" width=\"236.842105\" x=\"7.2\" y=\"252\"/>\n  </clipPath>\n  <clipPath id=\"pedc1de1fc2\">\n   <rect height=\"236.842105\" width=\"236.842105\" x=\"248.778947\" y=\"252\"/>\n  </clipPath>\n  <clipPath id=\"p0d3cee55e0\">\n   <rect height=\"236.842105\" width=\"236.842105\" x=\"490.357895\" y=\"252\"/>\n  </clipPath>\n </defs>\n</svg>\n",
      "image/png": "[encoded data removed]"
     },
     "metadata": {
      "needs_background": "light"
     }
    }
   ],
   "source": [
    "# Let's sample 2 sub-episodes, with 3 time steps each and display them:\n",
    "\n",
    "tf.random.set_seed(888) # chosen to show an example of trajectory at the end of an episode\n",
    "\n",
    "trajectories, buffer_info = replay_buffer.get_next(\n",
    "    sample_batch_size=2, num_steps=3) # C'est une sorte de reshape. On dit combien on veut récupérer de \"transitions\"/\"étapes\", et si on veut les récupérer par batch\n",
    "\n",
    "print(trajectories._fields)\n",
    "print(trajectories.observation.shape)\n",
    "print(trajectories.step_type.numpy())\n",
    "\n",
    "plt.figure(figsize=(10, 6.8))\n",
    "for row in range(2):\n",
    "    for col in range(3):\n",
    "        plt.subplot(2, 3, row * 3 + col + 1)\n",
    "        plot_observation(trajectories.observation[row, col].numpy())\n",
    "plt.subplots_adjust(left=0, right=1, bottom=0, top=1, hspace=0, wspace=0.02)\n",
    "plt.show()"
   ]
  },
  {
   "cell_type": "code",
   "execution_count": 35,
   "metadata": {},
   "outputs": [],
   "source": [
    "# Création du dataset provenant du rejeu de la mémoire\n",
    "\n",
    "dataset = replay_buffer.as_dataset(\n",
    "    sample_batch_size=64,\n",
    "    num_steps=2, # 2 étapes = 1 transition\n",
    "    num_parallel_calls=3).prefetch(3) "
   ]
  },
  {
   "cell_type": "code",
   "execution_count": 36,
   "metadata": {},
   "outputs": [],
   "source": [
    "# Convert the main functions to TF Functions for better performance:\n",
    "from tf_agents.utils.common import function\n",
    "\n",
    "collect_driver.run = function(collect_driver.run)\n",
    "agent.train = function(agent.train)"
   ]
  },
  {
   "cell_type": "code",
   "execution_count": 37,
   "metadata": {},
   "outputs": [],
   "source": [
    "def train_agent(n_iterations):\n",
    "    time_step = None\n",
    "    policy_state = agent.collect_policy.get_initial_state(tf_env.batch_size)\n",
    "    iterator = iter(dataset)\n",
    "    for iteration in range(n_iterations):\n",
    "        time_step, policy_state = collect_driver.run(time_step, policy_state)\n",
    "        trajectories, buffer_info = next(iterator)\n",
    "        train_loss = agent.train(trajectories)\n",
    "        print(\"\\r{} loss:{:.5f}\".format(\n",
    "            iteration, train_loss.loss.numpy()), end=\"\")\n",
    "        if iteration % 1000 == 0:\n",
    "            log_metrics(train_metrics)"
   ]
  },
  {
   "cell_type": "code",
   "execution_count": null,
   "metadata": {},
   "outputs": [],
   "source": [
    "train_agent(n_iterations=10000)"
   ]
  },
  {
   "cell_type": "code",
   "execution_count": null,
   "metadata": {},
   "outputs": [],
   "source": [
    "frames = []\n",
    "def save_frames(trajectory):\n",
    "    global frames\n",
    "    frames.append(tf_env.pyenv.envs[0].render(mode=\"rgb_array\"))\n",
    "\n",
    "prev_lives = tf_env.pyenv.envs[0].ale.lives()\n",
    "def reset_and_fire_on_life_lost(trajectory):\n",
    "    global prev_lives\n",
    "    lives = tf_env.pyenv.envs[0].ale.lives()\n",
    "    if prev_lives != lives:\n",
    "        tf_env.reset()\n",
    "        tf_env.pyenv.envs[0].step(np.array(1))\n",
    "        prev_lives = lives\n",
    "\n",
    "watch_driver = DynamicStepDriver(\n",
    "    tf_env,\n",
    "    agent.policy,\n",
    "    observers=[save_frames, reset_and_fire_on_life_lost, ShowProgress(1000)],\n",
    "    num_steps=1000)\n",
    "final_time_step, final_policy_state = watch_driver.run()\n",
    "\n",
    "plot_animation(frames)\n"
   ]
  }
 ]
}