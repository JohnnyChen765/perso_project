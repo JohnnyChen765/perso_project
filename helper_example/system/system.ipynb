{
 "metadata": {
  "language_info": {
   "codemirror_mode": {
    "name": "ipython",
    "version": 3
   },
   "file_extension": ".py",
   "mimetype": "text/x-python",
   "name": "python",
   "nbconvert_exporter": "python",
   "pygments_lexer": "ipython3",
   "version": "3.6.9"
  },
  "orig_nbformat": 2,
  "kernelspec": {
   "name": "python3",
   "display_name": "Python 3.6.9 64-bit",
   "metadata": {
    "interpreter": {
     "hash": "31f2aee4e71d21fbe5cf8b01ff0e069b9275f58929596ceb00d14d90e3e16cd6"
    }
   }
  }
 },
 "nbformat": 4,
 "nbformat_minor": 2,
 "cells": [
  {
   "source": [
    "# Read file"
   ],
   "cell_type": "markdown",
   "metadata": {}
  },
  {
   "cell_type": "code",
   "execution_count": 10,
   "metadata": {},
   "outputs": [
    {
     "output_type": "stream",
     "name": "stdout",
     "text": [
      "Reading all: line 1\nline 2\nline 3\n\nReading first line: line 1\n\nReading second line: line 2\n\nprinting lines in loop: line 1\n\nprinting lines in loop: line 2\n\nprinting lines in loop: line 3\n\n"
     ]
    }
   ],
   "source": [
    "f = open(\"./test_file.txt\", \"r\")\n",
    "print(\"Reading all: %s\" % f.read())\n",
    "f.close()\n",
    "\n",
    "f = open(\"./test_file.txt\", \"r\")\n",
    "print(f\"Reading first line: {f.readline()}\")\n",
    "print(f\"Reading second line: {f.readline()}\")\n",
    "f.close()\n",
    "\n",
    "with open(\"./test_file.txt\", \"r\") as f:\n",
    "    for line in f:\n",
    "        print(\"printing lines in loop: %s\" %line)"
   ]
  },
  {
   "source": [
    "# Create directory path if not exists"
   ],
   "cell_type": "markdown",
   "metadata": {}
  },
  {
   "cell_type": "code",
   "execution_count": 16,
   "metadata": {},
   "outputs": [],
   "source": [
    "from pathlib import Path\n",
    "path = \"./1/1_1/1_1_1\"\n",
    "Path(path).mkdir(parents=True, exist_ok=True)"
   ]
  },
  {
   "source": [
    "# Remove directory if exists"
   ],
   "cell_type": "markdown",
   "metadata": {}
  },
  {
   "cell_type": "code",
   "execution_count": 17,
   "metadata": {},
   "outputs": [],
   "source": [
    "import shutil \n",
    "\n",
    "dirpath = Path(path)\n",
    "if dirpath.exists() and dirpath.is_dir():\n",
    "    shutil.rmtree(dirpath)"
   ]
  }
 ]
}