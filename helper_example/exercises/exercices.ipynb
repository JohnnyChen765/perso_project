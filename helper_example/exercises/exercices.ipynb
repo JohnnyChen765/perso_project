{
 "metadata": {
  "language_info": {
   "codemirror_mode": {
    "name": "ipython",
    "version": 3
   },
   "file_extension": ".py",
   "mimetype": "text/x-python",
   "name": "python",
   "nbconvert_exporter": "python",
   "pygments_lexer": "ipython3",
   "version": "3.6.9"
  },
  "orig_nbformat": 2,
  "kernelspec": {
   "name": "python3",
   "display_name": "Python 3",
   "language": "python"
  }
 },
 "nbformat": 4,
 "nbformat_minor": 2,
 "cells": [
  {
   "source": [
    "# Exercice de la plus petite chaine qui se retrouve elle-même\n",
    "\n",
    "Soit une chaine de caractères. On cherche à savoir dans cette chaîne quelle est la plus petite sous-chaine de caractère ayant le même 1er et dernier élément. Par exemple: \"azertyyz\", la plus petite chaine est \"yy\". Dans \"azerty\" ou \"a\" ou \"\", il n'y a pas. \n",
    "\n",
    "La fonction doit retourner la chaine, et sa longueur, et son indice de départ au mieux. S'il n'y a rien on retournera le triplet (None, None, None)"
   ],
   "cell_type": "markdown",
   "metadata": {}
  },
  {
   "cell_type": "code",
   "execution_count": 25,
   "metadata": {},
   "outputs": [
    {
     "output_type": "stream",
     "name": "stdout",
     "text": [
      "(None, None, None)\n(None, None, None)\n('aa', 2, 0)\n('aza', 3, 0)\n(None, None, None)\n('yay', 3, 5)\n"
     ]
    }
   ],
   "source": [
    "\n",
    "# Idée: \n",
    "# 1. Si la taille de la string <= 1: alors on doit retourner None\n",
    "# 2. On parcours la chaîne:\n",
    "#       - si la lettre n'a pas été vue, alors on la met dans une mémoire et on indique son index\n",
    "#       - si la lettre a été vue, alors on compare sa longueur avec la substring déjà vue s'il y en a une. S'il n'y en a pas et ou qu'elle est plus petite, elle devient la nouvelle substring. On update ensuite la position de cette lettre dans la mémoire (car on aura p-ê une plus petite chaine dans le futur)\n",
    "#       \n",
    "# De ce fait, on peut considérer une mémoire comme un dictionnaire mappant lettre -> dernier indice vu. \n",
    "# Notre substring pourraît d'abord juste être un tuple d'indices, comme ça on a facilement la longueur, et on récupérera la substring tout à la fin\n",
    "\n",
    "def subchain(s):\n",
    "    default_return = (None, None, None)\n",
    "    if len(s) <= 1:\n",
    "        return default_return\n",
    "\n",
    "    memory = dict() # mappera lettre -> dernier indice vu\n",
    "    smallest_subchain_indexes = None\n",
    "\n",
    "    for index, letter in enumerate(s):\n",
    "        if letter not in memory:\n",
    "            memory[letter] = index\n",
    "        else:\n",
    "            # On compare la longueur avec celle que l'on a actuellement\n",
    "            if smallest_subchain_indexes is None or index - memory[letter] < smallest_subchain_indexes[1] - smallest_subchain_indexes[0]:\n",
    "                smallest_subchain_indexes = (memory[letter], index)\n",
    "\n",
    "            # Et à la fin on met quand même à jour le dernier indice vu, peu importe ce qui s'est passé\n",
    "            memory[letter] = index\n",
    "\n",
    "\n",
    "    if smallest_subchain_indexes is None:\n",
    "        return default_return\n",
    "    \n",
    "    substring_size = smallest_subchain_indexes[1] - smallest_subchain_indexes[0] + 1\n",
    "    substring = s[smallest_subchain_indexes[0]: smallest_subchain_indexes[1] + 1 ]\n",
    "    return (substring, substring_size, smallest_subchain_indexes[0])\n",
    "\n",
    "tests = [\"\", \"a\", \"aa\", \"aza\", \"azer\", \"azertyayuiop\"]\n",
    "for test in tests:\n",
    "    print(subchain(test))\n",
    "\n"
   ]
  },
  {
   "source": [
    "# Exercice de la caisse de monnaie\n",
    "\n",
    "On considère une caisse ayant des pièces de 50, 20, 10, 1, 0.5, 0.2, 0.1, 0.05, 0.02, 0.01. Chaque pièce a une certaine quantité. On veut la caisse nous retourne exactement la bonne monnaie. S'il n'y a plus assez de monnaie, elle doit retourner \"Plus assez de monnaie\".\n",
    "\n",
    "S'il n'y a pas de monnaie à retourner, elle retournera {}\n",
    "Sinon, elle retournera un dictionnaire contenant uniquement les pièces et leurs quantités à retourner."
   ],
   "cell_type": "markdown",
   "metadata": {}
  },
  {
   "cell_type": "code",
   "execution_count": 35,
   "metadata": {},
   "outputs": [
    {
     "output_type": "stream",
     "name": "stdout",
     "text": [
      "{50: 1}\n{20: 1}\n{}\nLe paiement n'est pas assez\n{1: 1.0, 0.5: 1.0, 0.01: 1.0}\n"
     ]
    }
   ],
   "source": [
    "monnaies = [50, 20, 10, 1, 0.5, 0.2, 0.1, 0.05, 0.02, 0.01]\n",
    "\n",
    "quantities = {\n",
    "    50: 10,\n",
    "    20: 10,\n",
    "    10: 10,\n",
    "    1: 10,\n",
    "    0.5: 10, \n",
    "    0.2:10,\n",
    "    0.1: 10,\n",
    "    0.05: 10,\n",
    "    0.02: 10,\n",
    "    0.01: 10\n",
    "}\n",
    "\n",
    "def get_total_pieces(quantities):\n",
    "    return sum([quantities[i] for i in quantities])\n",
    "\n",
    "total_pieces = sum([quantities[i] for i in quantities])\n",
    "\n",
    "def caisse(prix, paiement):\n",
    "    if paiement < prix:\n",
    "        return \"Le paiement n'est pas assez\"\n",
    "    if paiement == prix:\n",
    "        return {}\n",
    "    \n",
    "    total_rendu = 0\n",
    "    a_rendre = paiement - prix\n",
    "    \n",
    "    sortie = {}\n",
    "    \n",
    "    for monnaie in monnaies:\n",
    "        left_to_pay = a_rendre - total_rendu\n",
    "        n_piece = min(left_to_pay // monnaie, quantities[monnaie])\n",
    "        if n_piece > 0:\n",
    "            sortie[monnaie] = n_piece\n",
    "\n",
    "            total_rendu += n_piece * monnaie\n",
    "            quantities[monnaie] -= n_piece\n",
    "            # total_pieces -= n_piece\n",
    "        \n",
    "        if total_rendu >= a_rendre:\n",
    "            return sortie\n",
    "        total_pieces = get_total_pieces(quantities)\n",
    "        if total_pieces <= 0:\n",
    "            return \"Pas assez de monnaie\"\n",
    "\n",
    "    # if total_rendu < a_rendre:\n",
    "    #     return \"Pas assez de monnaie\"   \n",
    "    \n",
    "    return sortie\n",
    "    \n",
    "\n",
    "tests = [(100, 150), (100, 120), (100, 100), (100, 90), (100, 101.51)]\n",
    "for (p, paie) in tests:\n",
    "    print(caisse(p, paie))"
   ]
  },
  {
   "source": [
    "# Fizzbuzz\n",
    "\n",
    "Pour les entiers entre 1 et 20:\n",
    "    - si le nombre est divisible par 3, on écrit \"Fizz\"\n",
    "    - par 5, on écrit \"Buzz\"\n",
    "    - par 15, on écrit \"FizBuzz\"\n",
    "    - sinon on écrit le nombre"
   ],
   "cell_type": "markdown",
   "metadata": {}
  },
  {
   "cell_type": "code",
   "execution_count": 3,
   "metadata": {},
   "outputs": [
    {
     "output_type": "stream",
     "name": "stdout",
     "text": [
      "FizzBuzz\n2\nFizz\nBuzz\n"
     ]
    }
   ],
   "source": [
    "def fizzbuzz(n):\n",
    "    if n % 15 == 0:\n",
    "        print(\"FizzBuzz\")\n",
    "    elif n % 5 == 0:\n",
    "        print(\"Buzz\")\n",
    "    elif n % 3 == 0:\n",
    "        print(\"Fizz\")\n",
    "    else:\n",
    "        print(n)\n",
    "\n",
    "fizzbuzz(15)\n",
    "fizzbuzz(2)\n",
    "fizzbuzz(9)\n",
    "fizzbuzz(10)"
   ]
  },
  {
   "source": [
    "# Somme pairs de Fibonacci\n",
    "\n",
    "Each new term in the Fibonacci sequence is generated by adding the previous two terms. By starting with 1 and 2, the first 10 terms will be:\n",
    "\n",
    "1, 2, 3, 5, 8, 13, 21, 34, 55, 89, ...\n",
    "\n",
    "By considering the terms in the Fibonacci sequence whose values do not exceed four million, find the sum of the even-valued terms."
   ],
   "cell_type": "markdown",
   "metadata": {}
  },
  {
   "cell_type": "code",
   "execution_count": 8,
   "metadata": {},
   "outputs": [
    {
     "output_type": "stream",
     "name": "stdout",
     "text": [
      "10\n"
     ]
    }
   ],
   "source": [
    "# Méthode 1: implémenter en Dynamic programing pour calculer fibonacci, et sommer sur l'array\n",
    "# Méthode 2: Même chose que la méthode 1, mais on somme au fur et à mesure plutôt qu'à la toute fin\n",
    "\n",
    "def fibo(n):\n",
    "    # Taking 1st two fibonacci nubers as 1 and 2\n",
    "    f = [1, 2]\n",
    "     \n",
    "    for i in range(2, n + 1):\n",
    "        f.append(f[i-1] + f[i-2])\n",
    "    return (f[n], f)\n",
    "\n",
    "def somme_pair_fibo(n):\n",
    "    _, memory = fibo(n)\n",
    "    return sum([i for i in memory if i % 2 == 0])\n",
    "\n",
    "print(somme_pair_fibo(5))"
   ]
  },
  {
   "source": [
    "# Palindrome\n",
    "\n",
    "A palindromic number reads the same both ways. The largest palindrome made from the product of two 2-digit numbers is 9009 = 91 × 99.\n",
    "\n",
    "Find the largest palindrome made from the product of two 3-digit numbers."
   ],
   "cell_type": "markdown",
   "metadata": {}
  },
  {
   "cell_type": "code",
   "execution_count": 12,
   "metadata": {},
   "outputs": [
    {
     "output_type": "stream",
     "name": "stdout",
     "text": [
      "True\nTrue\nFalse\nTrue\n(580085, 995, 583)\n"
     ]
    }
   ],
   "source": [
    "# il y a 900 nombres entre 100 et 999. Si on faisait de manière brute, il faudrait 900 * 900 = 810 000 opérations.\n",
    "# Comme on sait que le nombre sera entre 100 * 100 et 999 * 999, on peut commencer de manière descendante depuis 999 * 999, et cherche le 1er palindrome qui sera rencontré. \n",
    "# Il nous faut une fonction pour checker qu'un nombre est un palindrome.\n",
    "# De plus, il est plus facile de montrer qu'un nombre est un palindrome que de montrer qu'un palindrome est un produit de nombres à 3 chiffres.\n",
    "\n",
    "\n",
    "def is_palindrome(s):\n",
    "    if len(s) <= 1:\n",
    "        return True\n",
    "    if s[0] == s[-1]:\n",
    "        return is_palindrome(s[1: -1])\n",
    "    return False\n",
    "\n",
    "def biggest_palindrome_product():\n",
    "    for i in range(999, 100 - 1, -1):\n",
    "        for j in range(999, 100 - 1, -1):\n",
    "            produit = i * j\n",
    "            if is_palindrome(str(produit)):\n",
    "                return produit, i, j\n",
    "    return None\n",
    "\n",
    "print(is_palindrome(''))\n",
    "print(is_palindrome('1'))\n",
    "print(is_palindrome('10'))\n",
    "print(is_palindrome('1001'))\n",
    "print(biggest_palindrome_product())"
   ]
  },
  {
   "source": [
    "# Integer right triangles\n",
    "\n",
    "\n",
    "If p is the perimeter of a right angle triangle with integral length sides, {a,b,c}, there are exactly three solutions for p = 120.\n",
    "\n",
    "{20,48,52}, {24,45,51}, {30,40,50}\n",
    "\n",
    "For which value of p ≤ 1000, is the number of solutions maximised?"
   ],
   "cell_type": "markdown",
   "metadata": {}
  },
  {
   "cell_type": "code",
   "execution_count": 35,
   "metadata": {},
   "outputs": [
    {
     "output_type": "stream",
     "name": "stdout",
     "text": [
      "(840, [(40, 399.0, 401.0), (56, 390.0, 394.0), (105, 360.0, 375.0), (120, 350.0, 370.0), (140, 336.0, 364.0), (168, 315.0, 357.0), (210, 280.0, 350.0), (240, 252.0, 348.0), (252, 240.0, 348.0), (280, 210.0, 350.0), (315, 168.0, 357.0), (336, 140.0, 364.0), (350, 120.0, 370.0), (360, 105.0, 375.0), (390, 56.0, 394.0), (399, 40.0, 401.0)], 16)\ntime taken: 0.08545589447021484 ms\n"
     ]
    }
   ],
   "source": [
    "# Comme il s'agit d'un triangle rectangle, nous avons l'équation: a² + b² = c² (1)\n",
    "# De plus, pour un p donné, nous avons l'équation du périmètre: a + b + c = p (2)\n",
    "\n",
    "# Nous avons 2 équations et 3 inconnus, nous avons donc un degré de liberté. En substituant, nous obtenons l'équation:\n",
    "# a² + b² = (p - a - b)²                                en replaçant c dans (1)\n",
    "# soit a² + b² = p² + a² + b² - 2ap - 2bp + 2ab         en développant\n",
    "# soit 0 = p² - 2ap - 2bp + 2ab                         en éliminant a² + b² des deux côtés\n",
    "# soit 0 = p² - 2ap - b(2p - 2a)                        en factorisant b\n",
    "# soit b = (p²/2 - ap) / (p - a)                        on exprime b en fonction de a\n",
    "\n",
    "# Pour un p donné, il suffit d'itérer sur a dans {1,..,p}, et regarder si b calculé ainsi est un entier > 0\n",
    "# Cette recherche est en O(p)\n",
    "# On fait ça pour tout p <= n, et de ce fait on a une complexité en Somme(O(p)) pour p de 1 à n, soit O(n²)\n",
    "\n",
    "# On peut vérifier la bonne valeur de b pour un a donné avec l'énoncé \n",
    "\n",
    "def compute_b(a, p):\n",
    "    return (p**2/2 - a*p) / (p - a)\n",
    "\n",
    "# Pour chaque p, il faut enregistrer le nombre de solutions qu'on a eu (et sauvegarder les solutions si possible)\n",
    "# Pour cela, on peut utiliser plusieurs structures : \n",
    "#   soit un dictionnaire: p -> [sol1, sol2, ...] où sol serait le triplet (a,b,c)\n",
    "#   soit une simple liste [[sol1, sol2, ...], ...] où p serait l'indice de la liste\n",
    "#   soit 2 listes: [[sol1, sol2, ...], ...] et [n1, n2, ...] où n serait le nomber de solutions\n",
    "\n",
    "# On partira pour la solution 2 car plus simple et économe\n",
    "def search(n):\n",
    "    memory = []\n",
    "    max_p = 0\n",
    "    max_n_solutions = 0\n",
    "    for p in range(1, n + 1):\n",
    "        list_solutions = []\n",
    "        # for a in range(1, p): # On se rendra compte qu'on pourra stopper a avant p / 2 en fait\n",
    "        for a in range(1, int(p / 2)): # On se rendra compte qu'on pourra stopper a avant p / 2 en fait\n",
    "            b = compute_b(a, p)\n",
    "            if b.is_integer() and b > 0:\n",
    "                c = p - a - b\n",
    "                triplet = (a, b, c)\n",
    "                list_solutions.append(triplet)\n",
    "        memory.append(list_solutions)\n",
    "        n_solutions = len(list_solutions)\n",
    "        if n_solutions > max_n_solutions:\n",
    "            max_p = p\n",
    "            max_n_solutions = n_solutions\n",
    "\n",
    "    # print(memory)\n",
    "    max_list_sol = memory[max_p - 1]\n",
    "\n",
    "    return (max_p, max_list_sol, len(max_list_sol))\n",
    "\n",
    "# On remarque que nous avons des doublons (a, b, c) et (b, a, c)\n",
    "# Dans un premier temps, il est déjà possible de stopper a avant p / 2\n",
    "# Au lieu d'essayer de garder l'unicité dans la mémoire, ou d'essayer de stopper la boucle de a avant une certaine valeur, on pourrait simplement ne renvoyer que la 1ère moitié de max_list_sol, et diviser le nombre de solutions par 2\n",
    "\n",
    "import time\n",
    "start = time.time()\n",
    "print(search(1000))\n",
    "end = time.time()\n",
    "print(f\"time taken: {end - start} ms\")"
   ]
  },
  {
   "cell_type": "code",
   "execution_count": 28,
   "metadata": {},
   "outputs": [
    {
     "output_type": "execute_result",
     "data": {
      "text/plain": [
       "2"
      ]
     },
     "metadata": {},
     "execution_count": 28
    }
   ],
   "source": [
    "int(2.6)"
   ]
  },
  {
   "cell_type": "code",
   "execution_count": 10,
   "metadata": {},
   "outputs": [
    {
     "output_type": "execute_result",
     "data": {
      "text/plain": [
       "(2, 2)"
      ]
     },
     "metadata": {},
     "execution_count": 10
    }
   ],
   "source": [
    "test = (1,2)\n",
    "test = (2,2)\n",
    "test"
   ]
  },
  {
   "cell_type": "code",
   "execution_count": null,
   "metadata": {},
   "outputs": [],
   "source": [
    "\n",
    "#!/usr/bin/env python\n",
    "\n",
    "### question\n",
    "# write a function that determines if any of its arguments evaluates to true.\n",
    "\n",
    "def test_find_true():\n",
    "    \"\"\"\n",
    "    >>> find_true(true, {})\n",
    "    true\n",
    "    >>> find_true(none, (), 0)\n",
    "    false\n",
    "    \"\"\"\n",
    "\n",
    "### question\n",
    "# write a function that returns a list of even integers from 0 to n inclusive.\n",
    "\n",
    "def test_even_integers(n):\n",
    "    return list(range(0, n + 1, 2))\n",
    "    # return [i for i in range(n+1) if i % 2 == 0]\n",
    "\n",
    "    \"\"\"\n",
    "    >>> even_integers(3)\n",
    "    [0, 2]\n",
    "    \"\"\"\n",
    "\n",
    "### question\n",
    "# write a function that counts how many times each item occurs in an iterable,\n",
    "# a"
   ]
  },
  {
   "cell_type": "code",
   "execution_count": 44,
   "metadata": {},
   "outputs": [
    {
     "output_type": "stream",
     "name": "stdout",
     "text": [
      "   14 eggs\n    7 spam\n"
     ]
    }
   ],
   "source": [
    "### question\n",
    "# write a function that determines if any of its arguments evaluates to true.\n",
    "\n",
    "def find_true(*args):\n",
    "    return any(args)\n",
    "    \n",
    "    # \"\"\"\n",
    "    # >>> find_true(true, {})\n",
    "    # true\n",
    "    # >>> find_true(none, (), 0)\n",
    "    # false\n",
    "    # \"\"\"\n",
    "    \n",
    "### question\n",
    "# write a function that returns a list of even integers from 0 to n inclusive.\n",
    "\n",
    "def test_even_integers(n):\n",
    "    return list(range(0, n + 1, 2))\n",
    "    # return [i for i in range(n+1) if i % 2 == 0]\n",
    "\n",
    "# write a function that counts how many times each item occurs in an iterable,\n",
    "# and displays a list in the format shown below, sorted by decreasing count.\n",
    "\n",
    "from collections import Counter\n",
    "def test_show_items(iterable):\n",
    "    c = Counter(iterable)\n",
    "    items = c.items()\n",
    "    items = sorted(items, key=lambda x: -x[1])\n",
    "    for key, count in items:\n",
    "        print(f\"{count:>5} {key}\")\n",
    "        \n",
    "    # for key, count in c.most_common():\n",
    "    #     print(f\"{count:>5} {key}\")\n",
    "\n",
    "    # \"\"\"\n",
    "    # >>> show_items(['spam', 'eggs', 'eggs'] * 7)\n",
    "    #   14  eggs\n",
    "    #    7  spam\n",
    "    # \"\"\"\n",
    "\n",
    "test_show_items(['spam', 'eggs', 'eggs'] * 7)\n"
   ]
  },
  {
   "cell_type": "code",
   "execution_count": 57,
   "metadata": {},
   "outputs": [
    {
     "output_type": "stream",
     "name": "stdout",
     "text": [
      "('33', '158186740', '0930')\n"
     ]
    }
   ],
   "source": [
    "### question\n",
    "# Write a function that extracts the country code, phone number and extension\n",
    "# from a string formatted as: +<country code>.<phone number>[x<extension>]\n",
    "# - <country code> contains up to 3 digits;\n",
    "# - <phone number> contains up to 14 digits;\n",
    "# - <extension> is optional and contains up to 40 digits.\n",
    "\n",
    "import re\n",
    "def test_parse_phone_number(number):\n",
    "    regex = r'\\+(\\d{1,3})\\.(\\d{1,14})(?:x(\\d{1,40}))?'\n",
    "    matches = re.fullmatch(regex, number)\n",
    "    print(matches.groups())\n",
    "\n",
    "test_parse_phone_number('+33.158186740x0930')\n",
    "    # \"\"\"\n",
    "    # >>> parse_phone_number('+33.158186740')\n",
    "    # ('33', '158186740', None)\n",
    "    # >>> parse_phone_number('+33.158186740x0930')\n",
    "    # ('33', '158186"
   ]
  },
  {
   "cell_type": "code",
   "execution_count": 59,
   "metadata": {},
   "outputs": [
    {
     "output_type": "execute_result",
     "data": {
      "text/plain": [
       "42"
      ]
     },
     "metadata": {},
     "execution_count": 59
    }
   ],
   "source": [
    "### question\n",
    "# Write a class that can be instanciated with any keyword arguments,\n",
    "# and saves them as instance variables.\n",
    "\n",
    "class MagicClass:\n",
    "    def __init__(self, **kwargs):\n",
    "        self.__dict__.update(kwargs)\n",
    "        # for key, value in kwargs.items():\n",
    "            # setattr(self, key, value)\n",
    "\n",
    "\n",
    "    # \"\"\"\n",
    "    # >>> x = MagicClass(spam=42)\n",
    "    # >>> x.spam\n",
    "    # 42\n",
    "    # >>> x.eggs\n",
    "    # Traceback (most recent call last):\n",
    "    #     ...\n",
    "    # AttributeError: 'MagicClass' object has no attribute 'eggs'\n",
    "    # \"\"\"\n",
    "\n",
    "x = MagicClass(spam=42)\n",
    "x.spam"
   ]
  },
  {
   "cell_type": "code",
   "execution_count": null,
   "metadata": {},
   "outputs": [],
   "source": [
    "def MagiClass(**kwargs):\n",
    "  return type(\"MagicClass\", (), kwargs)()"
   ]
  },
  {
   "source": [
    "# Exercice groupama\n",
    "\n",
    "Dans une liste composée d'éléments [personne, naissance, mort],"
   ],
   "cell_type": "markdown",
   "metadata": {}
  },
  {
   "cell_type": "code",
   "execution_count": 43,
   "metadata": {
    "tags": []
   },
   "outputs": [
    {
     "output_type": "stream",
     "name": "stdout",
     "text": [
      "(698, 2099)\n"
     ]
    }
   ],
   "source": [
    "# Méthode 1: on crée un array où l'indice serait l'année. On itère sur les éléments de la liste, et pour chaque élément, on regarde l'intervalle [naissance, mort], et on incrémente de 1 chaque élément de notre array compris entre [naissance, mort]\n",
    "# soucis ? \n",
    "#   - il faut une taille fixe de départ.\n",
    "#   - c'est un peu inutile de commencer par 0. On peut mettre un offset \n",
    "\n",
    "\n",
    "def max_vivant(liste):\n",
    "    solde = dict()\n",
    "\n",
    "    for _, naissance, mort in liste:\n",
    "        if naissance in solde:\n",
    "            solde[naissance] += 1\n",
    "        else:\n",
    "            solde[naissance] = 1\n",
    "        \n",
    "        if mort in solde:\n",
    "            solde[mort] -= 1\n",
    "        else:\n",
    "            solde[mort] = -1 \n",
    "            \n",
    "\n",
    "    max_personne_vivante = max(solde)\n",
    "    annee = solde.index(max_personne_vivante)\n",
    "\n",
    "    return max_personne_vivante, annee\n",
    "\n",
    "\n",
    "import json\n",
    "\n",
    "with open('./data_small.json', 'r') as f:\n",
    "    data = json.load(f)\n",
    "\n",
    "print(max_vivant(data))"
   ]
  },
  {
   "cell_type": "code",
   "execution_count": 44,
   "metadata": {},
   "outputs": [
    {
     "output_type": "error",
     "ename": "KeyError",
     "evalue": "1",
     "traceback": [
      "\u001b[0;31m---------------------------------------------------------------------------\u001b[0m",
      "\u001b[0;31mKeyError\u001b[0m                                  Traceback (most recent call last)",
      "\u001b[0;32m<ipython-input-44-4bee7875763e>\u001b[0m in \u001b[0;36m<module>\u001b[0;34m\u001b[0m\n\u001b[1;32m      1\u001b[0m \u001b[0mtest\u001b[0m \u001b[0;34m=\u001b[0m \u001b[0mdict\u001b[0m\u001b[0;34m(\u001b[0m\u001b[0;34m)\u001b[0m\u001b[0;34m\u001b[0m\u001b[0;34m\u001b[0m\u001b[0m\n\u001b[0;32m----> 2\u001b[0;31m \u001b[0mtest\u001b[0m\u001b[0;34m[\u001b[0m\u001b[0;36m1\u001b[0m\u001b[0;34m]\u001b[0m\u001b[0;34m\u001b[0m\u001b[0;34m\u001b[0m\u001b[0m\n\u001b[0m",
      "\u001b[0;31mKeyError\u001b[0m: 1"
     ]
    }
   ],
   "source": [
    "test = dict()\n"
   ]
  }
 ]
}