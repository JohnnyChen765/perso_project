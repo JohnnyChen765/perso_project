{
 "metadata": {
  "language_info": {
   "codemirror_mode": {
    "name": "ipython",
    "version": 3
   },
   "file_extension": ".py",
   "mimetype": "text/x-python",
   "name": "python",
   "nbconvert_exporter": "python",
   "pygments_lexer": "ipython3",
   "version": "3.6.9"
  },
  "orig_nbformat": 2,
  "kernelspec": {
   "name": "python3",
   "display_name": "Python 3",
   "language": "python"
  }
 },
 "nbformat": 4,
 "nbformat_minor": 2,
 "cells": [
  {
   "source": [
    "# Exo python "
   ],
   "cell_type": "markdown",
   "metadata": {}
  },
  {
   "cell_type": "code",
   "execution_count": null,
   "metadata": {},
   "outputs": [],
   "source": [
    "### question\n",
    "# write a function that determines if any of its arguments evaluates to true.\n",
    "\n",
    "def find_true(*args):\n",
    "    return any(args)\n",
    "    \n",
    "    # \"\"\"\n",
    "    # >>> find_true(true, {})\n",
    "    # true\n",
    "    # >>> find_true(none, (), 0)\n",
    "    # false\n",
    "    # \"\"\"\n",
    "    \n",
    "### question\n",
    "# write a function that returns a list of even integers from 0 to n inclusive.\n",
    "\n",
    "def test_even_integers(n):\n",
    "    return list(range(0, n + 1, 2))\n",
    "    # return [i for i in range(n+1) if i % 2 == 0]\n",
    "\n",
    "# write a function that counts how many times each item occurs in an iterable,\n",
    "# and displays a list in the format shown below, sorted by decreasing count.\n",
    "\n",
    "from collections import Counter\n",
    "def test_show_items(iterable):\n",
    "    c = Counter(iterable)\n",
    "    items = c.items()\n",
    "    items = sorted(items, key=lambda x: -x[1])\n",
    "    for key, count in items:\n",
    "        print(f\"{count:>5} {key}\")\n",
    "        \n",
    "    # for key, count in c.most_common():\n",
    "    #     print(f\"{count:>5} {key}\")\n",
    "\n",
    "    # \"\"\"\n",
    "    # >>> show_items(['spam', 'eggs', 'eggs'] * 7)\n",
    "    #   14  eggs\n",
    "    #    7  spam\n",
    "    # \"\"\"\n",
    "\n",
    "test_show_items(['spam', 'eggs', 'eggs'] * 7)"
   ]
  },
  {
   "cell_type": "code",
   "execution_count": null,
   "metadata": {},
   "outputs": [],
   "source": [
    "### question\n",
    "# Write a function that extracts the country code, phone number and extension\n",
    "# from a string formatted as: +<country code>.<phone number>[x<extension>]\n",
    "# - <country code> contains up to 3 digits;\n",
    "# - <phone number> contains up to 14 digits;\n",
    "# - <extension> is optional and contains up to 40 digits.\n",
    "\n",
    "import re\n",
    "def test_parse_phone_number(number):\n",
    "    regex = r'\\+(\\d{1,3})\\.(\\d{1,14})(?:x(\\d{1,40}))?'\n",
    "    matches = re.fullmatch(regex, number)\n",
    "    print(matches.groups())\n",
    "\n",
    "test_parse_phone_number('+33.158186740x0930')"
   ]
  },
  {
   "cell_type": "code",
   "execution_count": null,
   "metadata": {},
   "outputs": [],
   "source": [
    "# Write a class that can be instanciated with any keyword arguments,\n",
    "# and saves them as instance variables.\n",
    "\n",
    "class MagicClass:\n",
    "    def __init__(self, **kwargs):\n",
    "        self.__dict__.update(kwargs)\n",
    "        # for key, value in kwargs.items():\n",
    "            # setattr(self, key, value)\n",
    "\n",
    "\n",
    "    # \"\"\"\n",
    "    # >>> x = MagicClass(spam=42)\n",
    "    # >>> x.spam\n",
    "    # 42\n",
    "    # >>> x.eggs\n",
    "    # Traceback (most recent call last):\n",
    "    #     ...\n",
    "    # AttributeError: 'MagicClass' object has no attribute 'eggs'\n",
    "    # \"\"\"\n",
    "\n",
    "x = MagicClass(spam=42)\n",
    "x.spam\n",
    "\n",
    "def MagiClass(**kwargs):\n",
    "  return type(\"MagicClass\", (), kwargs)()"
   ]
  },
  {
   "source": [
    "# Question orientée Objet"
   ],
   "cell_type": "markdown",
   "metadata": {}
  },
  {
   "cell_type": "code",
   "execution_count": 7,
   "metadata": {},
   "outputs": [
    {
     "output_type": "stream",
     "name": "stdout",
     "text": [
      "Salut\nStanding up\nblack\nman\nTrying to add two humans\n"
     ]
    }
   ],
   "source": [
    "from abc import ABC, abstractmethod, abstractproperty # ABC for abstract class\n",
    "\n",
    "class AbstractHuman(ABC): #Cannot be instanciated\n",
    "    def __init__(self):\n",
    "        self.hair = \"black\"\n",
    "\n",
    "    # trying to define man + Man()\n",
    "    def __add__(self, another_human):\n",
    "        print(\"Trying to add two humans\")\n",
    "\n",
    "    # Cela indique que les classes filles devront implémenter une \"property\" sex obligatoirement\n",
    "    # Une property permet d'utiliser une méthode comme un attribut. Cet attribut sera toujours protégé.\n",
    "    @abstractproperty\n",
    "    def sex(self):\n",
    "        pass\n",
    "\n",
    "    # Cette méthode sera passée à toutes les classes filles\n",
    "    def hi(self):\n",
    "        print(\"Salut\")\n",
    "\n",
    "    # cette méthode devra être implémentée par les classes filles, comme pour une interface\n",
    "    @abstractmethod\n",
    "    def toilet(self):\n",
    "        pass\n",
    "\n",
    "class Man(AbstractHuman):\n",
    "    def __init__(self):\n",
    "        super().__init__()\n",
    "        # self.sex = \"man\"\n",
    "\n",
    "    @property\n",
    "    def sex(self):\n",
    "        return \"man\"\n",
    "\n",
    "    def toilet(self):\n",
    "        print(\"Standing up\")\n",
    "\n",
    "man = Man()\n",
    "man.hi()\n",
    "man.toilet()\n",
    "print(man.hair)\n",
    "print(man.sex)\n",
    "man + Man()"
   ]
  },
  {
   "source": [
    "# Set a breakpoint"
   ],
   "cell_type": "markdown",
   "metadata": {}
  },
  {
   "cell_type": "code",
   "execution_count": null,
   "metadata": {},
   "outputs": [],
   "source": [
    "def test_break():\n",
    "    print(\"line1\")\n",
    "    # set a breakpoint\n",
    "    import ipdb;\n",
    "    ipdb.set_trace()\n",
    "    # same as \n",
    "    # breakpoint()\n",
    "    print(\"line2\")"
   ]
  },
  {
   "source": [
    "# Décorateurs"
   ],
   "cell_type": "markdown",
   "metadata": {}
  },
  {
   "cell_type": "code",
   "execution_count": 3,
   "metadata": {},
   "outputs": [
    {
     "output_type": "stream",
     "name": "stdout",
     "text": [
      "f was called\n This is doc string for with_logging \n"
     ]
    }
   ],
   "source": [
    "def logged(func):\n",
    "    def with_logging(*args, **kwargs):\n",
    "        \"\"\" This is doc string for with_logging \"\"\"\n",
    "\n",
    "        print(func.__name__ + \" was called\")\n",
    "        return func(*args, **kwargs)\n",
    "    return with_logging\n",
    "\n",
    "@logged\n",
    "def f(x):\n",
    "   \"\"\"does some math\"\"\"\n",
    "   return x + x * x\n",
    "\n",
    "f(1)\n",
    "print(f.__doc__)\n",
    "\n",
    "\n",
    "\n"
   ]
  },
  {
   "source": [
    "With wraps decorator to get back the original docstring"
   ],
   "cell_type": "markdown",
   "metadata": {}
  },
  {
   "cell_type": "code",
   "execution_count": 4,
   "metadata": {},
   "outputs": [
    {
     "output_type": "stream",
     "name": "stdout",
     "text": [
      "does some math\n"
     ]
    }
   ],
   "source": [
    "from functools import wraps\n",
    "\n",
    "def logged(func):\n",
    "    @wraps(func) # using this, now we will get the original docstring and name of func\n",
    "    def with_logging(*args, **kwargs):\n",
    "        \"\"\" This is doc string for with_logging \"\"\"\n",
    "\n",
    "        print(func.__name__ + \" was called\")\n",
    "        return func(*args, **kwargs)\n",
    "    return with_logging\n",
    "\n",
    "@logged\n",
    "def f(x):\n",
    "   \"\"\"does some math\"\"\"\n",
    "   return x + x * x\n",
    "\n",
    "print(f.__doc__)"
   ]
  },
  {
   "source": [
    "# Functools\n",
    "\n",
    "Cache"
   ],
   "cell_type": "markdown",
   "metadata": {}
  },
  {
   "cell_type": "code",
   "execution_count": 23,
   "metadata": {},
   "outputs": [
    {
     "output_type": "stream",
     "name": "stdout",
     "text": [
      "Is not using cache\n10 toto\n10 toto\nIs not using cache\nIs not using cache\nIs not using cache\nIs not using cache\n2\nIs not using cache\nIs not using cache\n5\n5\n"
     ]
    }
   ],
   "source": [
    "from functools import lru_cache \n",
    "\n",
    "@lru_cache()\n",
    "def cached_function(number, string):\n",
    "    print(\"Is not using cache\")\n",
    "    return f\"{number} {string}\"\n",
    "\n",
    "print(cached_function(10, \"toto\"))\n",
    "print(cached_function(10, \"toto\"))\n",
    "\n",
    "# Recursive Fibonacci using cache\n",
    "@lru_cache()\n",
    "def fibo(n):\n",
    "    print(\"Is not using cache\") # On afficherait ce print 2^{n-1} + 1 fois sans cache\n",
    "    if n < 2:\n",
    "        return n\n",
    "    return fibo(n - 2) + fibo (n - 1)\n",
    "\n",
    "print(fibo(3))\n",
    "print(fibo(5))\n",
    "print(fibo(5))"
   ]
  },
  {
   "source": [
    "Partial: permet de créer des \"callback\" où on a déjà fixé une partie des arguments/de la signature"
   ],
   "cell_type": "markdown",
   "metadata": {}
  },
  {
   "cell_type": "code",
   "execution_count": 27,
   "metadata": {},
   "outputs": [
    {
     "output_type": "stream",
     "name": "stdout",
     "text": [
      "a: 1\nb: 2\n3\na: 1\nb: 2\n6\nTesting Partial\na: 1000\nb: 2\n"
     ]
    },
    {
     "output_type": "execute_result",
     "data": {
      "text/plain": [
       "1002"
      ]
     },
     "metadata": {},
     "execution_count": 27
    }
   ],
   "source": [
    "from functools import partial\n",
    "\n",
    "def add(a, b, *args):\n",
    "    print(f\"a: {a}\")\n",
    "    print(f\"b: {b}\")\n",
    "    return a + b + sum(args)\n",
    "\n",
    "print(add(1, 2))\n",
    "print(add(1, 2, 3))\n",
    "\n",
    "print(\"Testing Partial\")\n",
    "plusDeux = partial(add, b=2)\n",
    "plusDeux(1000)"
   ]
  },
  {
   "cell_type": "code",
   "execution_count": null,
   "metadata": {},
   "outputs": [],
   "source": []
  }
 ]
}